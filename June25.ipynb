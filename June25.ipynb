{
 "cells": [
  {
   "cell_type": "markdown",
   "metadata": {},
   "source": [
    "## Function to check if two strings are Anagrams\n",
    "### abc cba -> True\n",
    "### aabbcc ccbbaaa -> False"
   ]
  },
  {
   "cell_type": "code",
   "execution_count": 2,
   "metadata": {},
   "outputs": [
    {
     "data": {
      "text/plain": [
       "False"
      ]
     },
     "execution_count": 2,
     "metadata": {},
     "output_type": "execute_result"
    }
   ],
   "source": [
    "def checkAnagram(s1,s2):\n",
    "    l1 = len(s1)\n",
    "    l2 = len(s2)\n",
    "    if l1 != l2:\n",
    "        return False\n",
    "    if sorted(s1) == sorted(s2):\n",
    "        return True\n",
    "    return False\n",
    "checkAnagram('abc','bcc')    "
   ]
  },
  {
   "cell_type": "markdown",
   "metadata": {},
   "source": [
    "## Convert two strings into anagram"
   ]
  },
  {
   "cell_type": "code",
   "execution_count": 5,
   "metadata": {},
   "outputs": [
    {
     "data": {
      "text/plain": [
       "4"
      ]
     },
     "execution_count": 5,
     "metadata": {},
     "output_type": "execute_result"
    }
   ],
   "source": [
    "def charDeletionsAnagram(s1,s2):\n",
    "    # to collect all uncommon characters - characters occurring in one string\n",
    "    uncommon = []\n",
    "    for i in s1:\n",
    "        if i not in s2:\n",
    "            uncommon.append(i)\n",
    "    for i in s2:\n",
    "        if i not in s1:\n",
    "            uncommon.append(i)\n",
    "    count = len(uncommon) \n",
    "    freq1 = {} # freq1 -> Dictionary which has frequency of common characters in s1\n",
    "    freq2 = {} # freq2 -> Dictionary which has frequency of common characters in s2\n",
    "    # Unique characters in s1 and s2\n",
    "    uniques1 = [] \n",
    "    uniques2 = []\n",
    "    # Frequency of unique characters in s1\n",
    "    for i in s1:\n",
    "        if i not in uncommon and i not in uniques1:\n",
    "            freq1[i] = s1.count(i)\n",
    "            uniques1.append(i)\n",
    "    # Frequency of unique characters in s2\n",
    "    for i in s2:\n",
    "        if i not in uncommon and i not in uniques2:\n",
    "            freq2[i] = s2.count(i)\n",
    "            uniques2.append(i)\n",
    "    # Difference in frequencies for common characters\n",
    "    for key in freq1.keys():\n",
    "        count+=abs(freq1[key] - freq2[key])\n",
    "    return count\n",
    "charDeletionsAnagram('cde','abc')\n",
    "            "
   ]
  },
  {
   "cell_type": "markdown",
   "metadata": {},
   "source": [
    "## Very easy test problem"
   ]
  },
  {
   "cell_type": "code",
   "execution_count": 8,
   "metadata": {},
   "outputs": [
    {
     "name": "stdout",
     "output_type": "stream",
     "text": [
      "1000 123456\n",
      "62228\n"
     ]
    }
   ],
   "source": [
    "S = input()\n",
    "def Avg(S):\n",
    "    S = S.split()\n",
    "    lb = int(S[0])\n",
    "    ub = int(S[1])\n",
    "    s = 0\n",
    "    c = 0\n",
    "    for i in range(lb,ub+1):\n",
    "        s = s+i\n",
    "        c = c+1\n",
    "    avg = s // c\n",
    "    print(avg)\n",
    "Avg(S)\n",
    "    "
   ]
  },
  {
   "cell_type": "markdown",
   "metadata": {},
   "source": [
    "## Easy test problem"
   ]
  },
  {
   "cell_type": "code",
   "execution_count": 15,
   "metadata": {},
   "outputs": [
    {
     "data": {
      "text/plain": [
       "'b'"
      ]
     },
     "execution_count": 15,
     "metadata": {},
     "output_type": "execute_result"
    }
   ],
   "source": [
    "# {a:4,g:9,i:6,p:213,c:6}\n",
    "# [4,6,6,9,213]\n",
    "# [a,c,g,i,p]\n",
    "# k = 3\n",
    "# li = []\n",
    "# for item in d.items():\n",
    "# if item[1] == 6:\n",
    "#    li.append(item[0])\n",
    "def kLargestFrequency(s,k):\n",
    "    # Construct the frequency dictionary\n",
    "    unique = []\n",
    "    frequency = {}\n",
    "    for i in s:\n",
    "        if i not in frequency.keys():\n",
    "            frequency[i] = s.count(i)\n",
    "            unique.append(i)\n",
    "    values = sorted(frequency.values(), reverse=True)\n",
    "    uniqueValues = set(values)\n",
    "    uniqueValues = sorted(uniqueValues, reverse=True)\n",
    "    if k<=len(frequency.keys()):\n",
    "        kvalue = uniqueValues[k-1]\n",
    "    else:\n",
    "        return -1\n",
    "    li=[]\n",
    "    for item in frequency.items():\n",
    "        if item[1] == kvalue:\n",
    "            li.append(item[0])\n",
    "            \n",
    "    return min(li)\n",
    "            \n",
    "kLargestFrequency('aabcd',2)   "
   ]
  },
  {
   "cell_type": "code",
   "execution_count": null,
   "metadata": {},
   "outputs": [],
   "source": []
  }
 ],
 "metadata": {
  "kernelspec": {
   "display_name": "Python 3",
   "language": "python",
   "name": "python3"
  },
  "language_info": {
   "codemirror_mode": {
    "name": "ipython",
    "version": 3
   },
   "file_extension": ".py",
   "mimetype": "text/x-python",
   "name": "python",
   "nbconvert_exporter": "python",
   "pygments_lexer": "ipython3",
   "version": "3.7.3"
  }
 },
 "nbformat": 4,
 "nbformat_minor": 2
}
