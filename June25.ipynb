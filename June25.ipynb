{
 "cells": [
  {
   "cell_type": "markdown",
   "metadata": {},
   "source": [
    "## Function to check if two strings are Anagrams\n",
    "### abc cba -> True\n",
    "### aabbcc ccbbaaa -> False"
   ]
  },
  {
   "cell_type": "code",
   "execution_count": 2,
   "metadata": {},
   "outputs": [
    {
     "data": {
      "text/plain": [
       "False"
      ]
     },
     "execution_count": 2,
     "metadata": {},
     "output_type": "execute_result"
    }
   ],
   "source": [
    "def checkAnagram(s1,s2):\n",
    "    l1 = len(s1)\n",
    "    l2 = len(s2)\n",
    "    if l1 != l2:\n",
    "        return False\n",
    "    if sorted(s1) == sorted(s2):\n",
    "        return True\n",
    "    return False\n",
    "checkAnagram('abc','bcc')    "
   ]
  },
  {
   "cell_type": "markdown",
   "metadata": {},
   "source": [
    "## Convert two strings into anagram"
   ]
  },
  {
   "cell_type": "code",
   "execution_count": 5,
   "metadata": {},
   "outputs": [
    {
     "data": {
      "text/plain": [
       "4"
      ]
     },
     "execution_count": 5,
     "metadata": {},
     "output_type": "execute_result"
    }
   ],
   "source": [
    "def charDeletionsAnagram(s1,s2):\n",
    "    # to collect all uncommon characters - characters occurring in one string\n",
    "    uncommon = []\n",
    "    for i in s1:\n",
    "        if i not in s2:\n",
    "            uncommon.append(i)\n",
    "    for i in s2:\n",
    "        if i not in s1:\n",
    "            uncommon.append(i)\n",
    "    count = len(uncommon) \n",
    "    freq1 = {} # freq1 -> Dictionary which has frequency of common characters in s1\n",
    "    freq2 = {} # freq2 -> Dictionary which has frequency of common characters in s2\n",
    "    # Unique characters in s1 and s2\n",
    "    uniques1 = [] \n",
    "    uniques2 = []\n",
    "    # Frequency of unique characters in s1\n",
    "    for i in s1:\n",
    "        if i not in uncommon and i not in uniques1:\n",
    "            freq1[i] = s1.count(i)\n",
    "            uniques1.append(i)\n",
    "    # Frequency of unique characters in s2\n",
    "    for i in s2:\n",
    "        if i not in uncommon and i not in uniques2:\n",
    "            freq2[i] = s2.count(i)\n",
    "            uniques2.append(i)\n",
    "    # Difference in frequencies for common characters\n",
    "    for key in freq1.keys():\n",
    "        count+=abs(freq1[key] - freq2[key])\n",
    "    return count\n",
    "charDeletionsAnagram('cde','abc')\n",
    "            "
   ]
  },
  {
   "cell_type": "code",
   "execution_count": null,
   "metadata": {},
   "outputs": [],
   "source": []
  }
 ],
 "metadata": {
  "kernelspec": {
   "display_name": "Python 3",
   "language": "python",
   "name": "python3"
  },
  "language_info": {
   "codemirror_mode": {
    "name": "ipython",
    "version": 3
   },
   "file_extension": ".py",
   "mimetype": "text/x-python",
   "name": "python",
   "nbconvert_exporter": "python",
   "pygments_lexer": "ipython3",
   "version": "3.7.3"
  }
 },
 "nbformat": 4,
 "nbformat_minor": 2
}
