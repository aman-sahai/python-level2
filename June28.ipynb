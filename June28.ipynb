{
 "cells": [
  {
   "cell_type": "markdown",
   "metadata": {},
   "source": [
    "# Day Objectives:\n",
    "- Maps\n",
    "- Lambda\n",
    "- Filter\n",
    "- Use Cases - File / Data Encryption"
   ]
  },
  {
   "cell_type": "markdown",
   "metadata": {},
   "source": [
    "## Map"
   ]
  },
  {
   "cell_type": "markdown",
   "metadata": {},
   "source": [
    "Mapping - Entity with Function.\n",
    "\n",
    "f : x^2 \n",
    "\n",
    "x : [1,10]\n",
    "\n",
    "f(x)\n",
    "\n",
    "f(1) -> 1\n",
    "\n",
    "f(2) -> 4\n",
    "\n",
    "...\n",
    "..\n",
    "\n",
    "y=f(x)\n",
    "\n",
    "  f: x^2\n",
    "\n",
    "x        y\n",
    "1        1\n",
    "2        4\n",
    "3        9\n",
    "4        16\n",
    "5        25\n",
    "6        36\n",
    "7        49\n",
    "8        64\n",
    "9        81\n",
    "10       100\n",
    "\n",
    "map(function, Iterable)"
   ]
  },
  {
   "cell_type": "code",
   "execution_count": 5,
   "metadata": {},
   "outputs": [
    {
     "data": {
      "text/plain": [
       "1"
      ]
     },
     "execution_count": 5,
     "metadata": {},
     "output_type": "execute_result"
    }
   ],
   "source": [
    "def Power(a,n):\n",
    "    # return a**n\n",
    "    r = 1\n",
    "    for i in range(0,n):\n",
    "        r = a * r\n",
    "    return r\n",
    "Power(2,10)\n",
    "\n",
    "def recursivePower(a,n):\n",
    "    if n == 0:\n",
    "        return 1\n",
    "    return a * recursivePower(a,n-1)\n",
    "recursivePower(5,0)"
   ]
  },
  {
   "cell_type": "code",
   "execution_count": 54,
   "metadata": {},
   "outputs": [
    {
     "data": {
      "text/plain": [
       "[1, 8, 27, 64, 125, 216, 343, 512, 729, 1000]"
      ]
     },
     "execution_count": 54,
     "metadata": {},
     "output_type": "execute_result"
    }
   ],
   "source": [
    "def Cube(n):\n",
    "    return n ** 3\n",
    "\n",
    "li = ['1','2','3','4','5','6','7','8','9','10']\n",
    "\n",
    "li2 = set(map(int,li))\n",
    "\n",
    "tuple(list(map(str,li2)))\n",
    "\n",
    "numbers = [int(i) for i in li]\n",
    "\n",
    "nc = [Cube(i) for i in numbers]\n",
    "\n",
    "nc\n"
   ]
  },
  {
   "cell_type": "markdown",
   "metadata": {},
   "source": [
    "### Filter\n",
    "\n",
    " - It is used to check boolean values"
   ]
  },
  {
   "cell_type": "code",
   "execution_count": 34,
   "metadata": {},
   "outputs": [
    {
     "data": {
      "text/plain": [
       "[1, 2, 3]"
      ]
     },
     "execution_count": 34,
     "metadata": {},
     "output_type": "execute_result"
    }
   ],
   "source": [
    "li = [1,2,'a','b','c',3]\n",
    "def isDigit(c):\n",
    "    c = str(c)\n",
    "    if c.isdigit():\n",
    "        return True\n",
    "    return False\n",
    "\n",
    "isDigit('a')\n",
    "\n",
    "list(filter(isDigit,li))"
   ]
  },
  {
   "cell_type": "code",
   "execution_count": null,
   "metadata": {},
   "outputs": [],
   "source": [
    "f : x -> {T, F}\n",
    "\n",
    "y C x\n",
    "\n",
    "x   y\n",
    "1  \n",
    "2   2\n",
    "3   3\n",
    "4   \n",
    "5   5\n",
    "6   \n",
    "7   7\n",
    "8   \n",
    "9\n",
    "10"
   ]
  },
  {
   "cell_type": "code",
   "execution_count": 45,
   "metadata": {},
   "outputs": [
    {
     "data": {
      "text/plain": [
       "[503, 509, 521, 523, 541, 547, 557, 563, 569, 571, 577, 587, 593, 599]"
      ]
     },
     "execution_count": 45,
     "metadata": {},
     "output_type": "execute_result"
    }
   ],
   "source": [
    "# Filter prime numbers in a given range\n",
    "\n",
    "def checkPrime(n):\n",
    "    if n < 2:\n",
    "        return False\n",
    "    for i in range(2,n):\n",
    "        if n % i == 0: \n",
    "            return False\n",
    "    return True\n",
    "lb, ub = 500 ,600\n",
    "primelist = list(filter(checkPrime, range(lb,ub+1)))\n",
    "# Map fails here because it is used for mathematical computation but it will fail for computational\n",
    "# thinking.\n",
    "primelist"
   ]
  },
  {
   "cell_type": "code",
   "execution_count": 48,
   "metadata": {},
   "outputs": [
    {
     "data": {
      "text/plain": [
       "[503, 509, 521, 523, 541, 547, 557, 563, 569, 571, 577, 587, 593, 599]"
      ]
     },
     "execution_count": 48,
     "metadata": {},
     "output_type": "execute_result"
    }
   ],
   "source": [
    "\n",
    "primelist2 = [i for i in range(lb,ub+1) if checkPrime(i)]\n",
    "primelist2"
   ]
  },
  {
   "cell_type": "code",
   "execution_count": null,
   "metadata": {},
   "outputs": [],
   "source": []
  },
  {
   "cell_type": "markdown",
   "metadata": {},
   "source": [
    "### Lambda\n",
    "\n",
    "- Anonymous functions\n",
    "- Can be embedded into Lists comprehension, Maps, Filter"
   ]
  },
  {
   "cell_type": "code",
   "execution_count": 64,
   "metadata": {},
   "outputs": [
    {
     "data": {
      "text/plain": [
       "[2, 4, 6]"
      ]
     },
     "execution_count": 64,
     "metadata": {},
     "output_type": "execute_result"
    }
   ],
   "source": [
    "a = lambda x: x**3\n",
    "\n",
    "list(map(lambda x: x**3,[1,2,3,4,5,6]))\n",
    "\n",
    "list(filter(lambda x:(x % 2 == 0), [1,2,3,4,5,6] ))"
   ]
  },
  {
   "cell_type": "code",
   "execution_count": 2,
   "metadata": {},
   "outputs": [
    {
     "data": {
      "text/plain": [
       "[5]"
      ]
     },
     "execution_count": 2,
     "metadata": {},
     "output_type": "execute_result"
    }
   ],
   "source": [
    "from random import randint\n",
    "\n",
    "internal1 = [randint(0,25) for i in range(10)]\n",
    "internal2 = [randint(0,25) for i in range(10)]\n",
    "\n",
    "avglist = list(map(lambda x,y : (x+y)//2, internal1, internal2))\n",
    "failedmarkslist = list(filter(lambda x:(x <  10),avglist))\n",
    "failedmarkslist"
   ]
  },
  {
   "cell_type": "code",
   "execution_count": null,
   "metadata": {},
   "outputs": [],
   "source": []
  },
  {
   "cell_type": "markdown",
   "metadata": {},
   "source": [
    "### Applying functional programming to Marks Analysis Application"
   ]
  },
  {
   "cell_type": "code",
   "execution_count": 3,
   "metadata": {},
   "outputs": [],
   "source": [
    "# Generate marks data\n",
    "from random import randint\n",
    "def generatemarks(n,lb,ub):\n",
    "    filename = 'DataFiles\\marks.txt'\n",
    "    with open(filename,'w') as f:\n",
    "        for line in range(n):\n",
    "            marks = randint(lb,ub)\n",
    "            f.write(str(marks)+'\\n')\n",
    "    return\n",
    "generatemarks(300,0,100)\n",
    "    \n"
   ]
  },
  {
   "cell_type": "code",
   "execution_count": 39,
   "metadata": {},
   "outputs": [
    {
     "data": {
      "text/plain": [
       "50"
      ]
     },
     "execution_count": 39,
     "metadata": {},
     "output_type": "execute_result"
    }
   ],
   "source": [
    "# Marks Analysis\n",
    "    # Class Average\n",
    "    # % Passed\n",
    "    # % Failed\n",
    "    # % Distinction\n",
    "    # Frequency of highest and lowest marks\n",
    "# import re\n",
    "filepath='DataFiles\\marks.txt'\n",
    "def MarksList(filepath):\n",
    "    with open(filepath,'r') as f:\n",
    "        filedata = f.read().split()\n",
    "        #markslist = re.split('\\n',filedata)\n",
    "    return list(map(int,filedata))\n",
    "      \n",
    "\n",
    "def classAverage(filepath):\n",
    "    markslist = MarksList(filepath)\n",
    "    return sum(markslist)//len(markslist)\n",
    "classAverage(filepath)\n",
    "            "
   ]
  },
  {
   "cell_type": "code",
   "execution_count": 40,
   "metadata": {},
   "outputs": [
    {
     "data": {
      "text/plain": [
       "35.666666666666664"
      ]
     },
     "execution_count": 40,
     "metadata": {},
     "output_type": "execute_result"
    }
   ],
   "source": [
    "# Function to define % failed value\n",
    "def Failed(filepath):\n",
    "    markslist = MarksList(filepath)\n",
    "    failedcount = len(list(filter(lambda mark: mark < 40,markslist)))\n",
    "    return failedcount/3\n",
    "filepath='DataFiles\\marks.txt'\n",
    "Failed(filepath)\n",
    "    "
   ]
  },
  {
   "cell_type": "code",
   "execution_count": 42,
   "metadata": {},
   "outputs": [
    {
     "data": {
      "text/plain": [
       "5"
      ]
     },
     "execution_count": 42,
     "metadata": {},
     "output_type": "execute_result"
    }
   ],
   "source": [
    "def highestFrequency(filepath):\n",
    "    markslist = MarksList(filepath)\n",
    "    return markslist.count(max(markslist))\n",
    "filepath='DataFiles\\marks.txt'\n",
    "highestFrequency(filepath)\n",
    "    "
   ]
  },
  {
   "cell_type": "code",
   "execution_count": null,
   "metadata": {},
   "outputs": [],
   "source": []
  },
  {
   "cell_type": "markdown",
   "metadata": {},
   "source": [
    "## Data Encryption\n",
    "\n",
    "Key - Mapping of characters with replaced character\n",
    "\n",
    "0 -> 4\n",
    "1 -> 5\n",
    "2 -> 6\n",
    "3 -> 7\n",
    "4 -> 8\n",
    "5 -> 9\n",
    "6 -> 0\n",
    "7 -> 1\n",
    "8 -> 2\n",
    "9 -> 3\n"
   ]
  },
  {
   "cell_type": "code",
   "execution_count": 29,
   "metadata": {},
   "outputs": [],
   "source": [
    "# Function to generate key for encryption\n",
    "keypath = 'DataFiles/key.txt'\n",
    "def generateKey(keypath):\n",
    "    with open(keypath,'w') as f:\n",
    "        for i in range(10):\n",
    "            if i<=5:\n",
    "                f.write(str(i)+\" \"+str(i+4)+\"\\n\")\n",
    "            else:\n",
    "                f.write(str(i)+\" \"+str(i-6)+\"\\n\")\n",
    "    return\n",
    "generateKey(keypath)"
   ]
  },
  {
   "cell_type": "code",
   "execution_count": 36,
   "metadata": {},
   "outputs": [
    {
     "data": {
      "text/plain": [
       "{'0': '4',\n",
       " '1': '5',\n",
       " '2': '6',\n",
       " '3': '7',\n",
       " '4': '8',\n",
       " '5': '9',\n",
       " '6': '0',\n",
       " '7': '1',\n",
       " '8': '2',\n",
       " '9': '3'}"
      ]
     },
     "execution_count": 36,
     "metadata": {},
     "output_type": "execute_result"
    }
   ],
   "source": [
    "def dictionaryKeyFile(keyfile):\n",
    "    key = {}\n",
    "    with open(keyfile,\"r\") as f:\n",
    "        for line in f:\n",
    "            line = line.split()\n",
    "            key[line[0]] = line[1]\n",
    "    return key\n",
    "dictionaryKeyFile('DataFiles\\key.txt')\n",
    "        \n",
    "\n",
    "# Construct the dictionary for key data.\n",
    "    \n",
    "    "
   ]
  },
  {
   "cell_type": "code",
   "execution_count": null,
   "metadata": {},
   "outputs": [],
   "source": []
  }
 ],
 "metadata": {
  "kernelspec": {
   "display_name": "Python 3",
   "language": "python",
   "name": "python3"
  },
  "language_info": {
   "codemirror_mode": {
    "name": "ipython",
    "version": 3
   },
   "file_extension": ".py",
   "mimetype": "text/x-python",
   "name": "python",
   "nbconvert_exporter": "python",
   "pygments_lexer": "ipython3",
   "version": "3.7.3"
  }
 },
 "nbformat": 4,
 "nbformat_minor": 2
}
