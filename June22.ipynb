{
 "cells": [
  {
   "cell_type": "markdown",
   "metadata": {},
   "source": [
    "# Day Objectives:\n",
    "- File Handling\n",
    "    - Basic File Data Processing\n",
    "    - Accessing and modifying file data\n",
    "- Character Count\n",
    "- Line Count\n",
    "- File Size\n",
    "- Word Count\n",
    "- Unique word count"
   ]
  },
  {
   "cell_type": "code",
   "execution_count": null,
   "metadata": {},
   "outputs": [],
   "source": []
  },
  {
   "cell_type": "markdown",
   "metadata": {},
   "source": [
    "### - Read a file - File should exists (ReadMode)\n",
    "### - Write into a file - File should exists (append) or a new file can be created (write)"
   ]
  },
  {
   "cell_type": "code",
   "execution_count": 6,
   "metadata": {},
   "outputs": [
    {
     "name": "stdout",
     "output_type": "stream",
     "text": [
      "I love Python!\n",
      "India will win the world cupLine4Line5\n",
      "Line4\n",
      "Line5\n"
     ]
    }
   ],
   "source": [
    "def ReadFile(filename):\n",
    "    with open(filename , 'r') as f:\n",
    "        filename = f.read()\n",
    "    return filename\n",
    "print(ReadFile('DataFiles\\data.txt'))"
   ]
  },
  {
   "cell_type": "markdown",
   "metadata": {},
   "source": [
    "## Count the number of lines in a given file"
   ]
  },
  {
   "cell_type": "code",
   "execution_count": 7,
   "metadata": {},
   "outputs": [
    {
     "data": {
      "text/plain": [
       "4"
      ]
     },
     "execution_count": 7,
     "metadata": {},
     "output_type": "execute_result"
    }
   ],
   "source": [
    "def LineCount(filename):\n",
    "    c = 0\n",
    "    with open (filename , 'r') as f:\n",
    "        for line in f:\n",
    "            c+=1\n",
    "    return c\n",
    "LineCount('DataFiles\\data.txt')"
   ]
  },
  {
   "cell_type": "markdown",
   "metadata": {},
   "source": [
    "## Count the number of characters in a given file"
   ]
  },
  {
   "cell_type": "code",
   "execution_count": 11,
   "metadata": {},
   "outputs": [
    {
     "name": "stdout",
     "output_type": "stream",
     "text": [
      "65\n"
     ]
    }
   ],
   "source": [
    "def CharacterCount(filename):\n",
    "    c = 0\n",
    "    with open(filename,'r') as f:\n",
    "        for i in f:\n",
    "            c = c+len(i)\n",
    "    print(c)\n",
    "CharacterCount('DataFiles\\data.txt')\n",
    "        "
   ]
  },
  {
   "cell_type": "markdown",
   "metadata": {},
   "source": [
    "## Count the number of word in a given file"
   ]
  },
  {
   "cell_type": "code",
   "execution_count": 7,
   "metadata": {},
   "outputs": [
    {
     "name": "stdout",
     "output_type": "stream",
     "text": [
      "11\n"
     ]
    }
   ],
   "source": [
    "def Word(filepath):\n",
    "    c = 0\n",
    "    with open(filepath,'r') as f:\n",
    "        for i in f:\n",
    "            words=i.split()\n",
    "            c+=len(words)\n",
    "    print(c)\n",
    "Word('DataFiles\\data.txt')"
   ]
  },
  {
   "cell_type": "markdown",
   "metadata": {},
   "source": [
    "## Count the number of unique word in a given file"
   ]
  },
  {
   "cell_type": "code",
   "execution_count": 26,
   "metadata": {},
   "outputs": [
    {
     "name": "stdout",
     "output_type": "stream",
     "text": [
      "11\n"
     ]
    }
   ],
   "source": [
    "def UniqueWord(datafile):\n",
    "    unique = []\n",
    "    C = 0\n",
    "    with open(datafile,'r') as f:\n",
    "        for line in f:\n",
    "            line = line.strip()\n",
    "            word = line.split()\n",
    "            for w in word:\n",
    "                if((word.count(w)==1) and (w not in unique)):\n",
    "                    unique.append(w)\n",
    "                    C = C+1\n",
    "                else:\n",
    "                    continue\n",
    "        print(C)\n",
    "UniqueWord('DataFiles\\data.txt')"
   ]
  },
  {
   "cell_type": "code",
   "execution_count": null,
   "metadata": {},
   "outputs": [],
   "source": []
  }
 ],
 "metadata": {
  "kernelspec": {
   "display_name": "Python 3",
   "language": "python",
   "name": "python3"
  },
  "language_info": {
   "codemirror_mode": {
    "name": "ipython",
    "version": 3
   },
   "file_extension": ".py",
   "mimetype": "text/x-python",
   "name": "python",
   "nbconvert_exporter": "python",
   "pygments_lexer": "ipython3",
   "version": "3.7.3"
  }
 },
 "nbformat": 4,
 "nbformat_minor": 2
}
