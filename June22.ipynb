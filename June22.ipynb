{
 "cells": [
  {
   "cell_type": "markdown",
   "metadata": {},
   "source": [
    "# Day Objectives:\n",
    "- File Handling\n",
    "    - Basic File Data Processing\n",
    "    - Accessing and modifying file data\n",
    "- Character Count\n",
    "- Line Count\n",
    "- File Size\n",
    "- Word Count\n",
    "- Unique word count"
   ]
  },
  {
   "cell_type": "code",
   "execution_count": null,
   "metadata": {},
   "outputs": [],
   "source": []
  },
  {
   "cell_type": "markdown",
   "metadata": {},
   "source": [
    "### - Read a file - File should exists (ReadMode)\n",
    "### - Write into a file - File should exists (append) or a new file can be created (write)"
   ]
  },
  {
   "cell_type": "code",
   "execution_count": 1,
   "metadata": {},
   "outputs": [
    {
     "name": "stdout",
     "output_type": "stream",
     "text": [
      "I love Python!\n",
      "India will win the world cupLine4Line5\n",
      "Line4\n",
      "Line5\n",
      "India\n",
      "India\n",
      "India\n"
     ]
    }
   ],
   "source": [
    "# Function to read entire file data into a string\n",
    "def ReadFile(filename):\n",
    "    with open(filename , 'r') as f:\n",
    "        filename = f.read() # Reads the entire file data into a string\n",
    "    return filename\n",
    "print(ReadFile('DataFiles\\data.txt'))\n",
    "# Each element in the list is one line in the file\n",
    "# List of line - Line Processing"
   ]
  },
  {
   "cell_type": "code",
   "execution_count": 3,
   "metadata": {},
   "outputs": [
    {
     "data": {
      "text/plain": [
       "['I love Python!',\n",
       " 'India will win the world cupLine4Line5',\n",
       " 'Line4',\n",
       " 'Line5',\n",
       " 'India',\n",
       " 'India',\n",
       " 'India']"
      ]
     },
     "execution_count": 3,
     "metadata": {},
     "output_type": "execute_result"
    }
   ],
   "source": [
    "def readfileintoList(filepath):\n",
    "    with open(filepath,'r') as f:\n",
    "        filedata = f.read()\n",
    "        linedata = filedata.split('\\n')\n",
    "        l1 = []\n",
    "        for l in linedata:\n",
    "            l1.append(l)\n",
    "    return l1\n",
    "readfileintoList('DataFiles\\data.txt')"
   ]
  },
  {
   "cell_type": "code",
   "execution_count": 5,
   "metadata": {},
   "outputs": [
    {
     "data": {
      "text/plain": [
       "83"
      ]
     },
     "execution_count": 5,
     "metadata": {},
     "output_type": "execute_result"
    }
   ],
   "source": [
    "def readFilelist(filepath):\n",
    "    c=0\n",
    "    with open(filepath,'r') as f:\n",
    "        filedata = f.read()\n",
    "        for l in filedata:\n",
    "            c+=1\n",
    "    return c\n",
    "readFilelist('DataFiles\\data.txt')"
   ]
  },
  {
   "cell_type": "markdown",
   "metadata": {},
   "source": [
    "## Count the number of lines in a given file"
   ]
  },
  {
   "cell_type": "code",
   "execution_count": 7,
   "metadata": {},
   "outputs": [
    {
     "data": {
      "text/plain": [
       "4"
      ]
     },
     "execution_count": 7,
     "metadata": {},
     "output_type": "execute_result"
    }
   ],
   "source": [
    "def LineCount(filename):\n",
    "    c = 0\n",
    "    with open (filename , 'r') as f:\n",
    "        for line in f:\n",
    "            c+=1\n",
    "    return c\n",
    "LineCount('DataFiles\\data.txt')"
   ]
  },
  {
   "cell_type": "markdown",
   "metadata": {},
   "source": [
    "## Count the number of characters in a given file"
   ]
  },
  {
   "cell_type": "code",
   "execution_count": 11,
   "metadata": {},
   "outputs": [
    {
     "name": "stdout",
     "output_type": "stream",
     "text": [
      "65\n"
     ]
    }
   ],
   "source": [
    "def CharacterCount(filename):\n",
    "    c = 0\n",
    "    with open(filename,'r') as f:\n",
    "        for i in f:\n",
    "            c = c+len(i)\n",
    "    print(c)\n",
    "CharacterCount('DataFiles\\data.txt')\n",
    "        "
   ]
  },
  {
   "cell_type": "markdown",
   "metadata": {},
   "source": [
    "## Count the number of word in a given file"
   ]
  },
  {
   "cell_type": "code",
   "execution_count": 6,
   "metadata": {},
   "outputs": [
    {
     "data": {
      "text/plain": [
       "14"
      ]
     },
     "execution_count": 6,
     "metadata": {},
     "output_type": "execute_result"
    }
   ],
   "source": [
    "def Word(filepath):\n",
    "    c = 0\n",
    "    with open(filepath,'r') as f:\n",
    "        for i in f:\n",
    "            words=i.split()\n",
    "            c+=len(words)\n",
    "    print(c)\n",
    "#Word('DataFiles\\data.txt')\n",
    "\n",
    "# Using Regular expression\n",
    "\n",
    "import re\n",
    "def WordCount(filepath):\n",
    "    pattern = '[ \\n]'\n",
    "    filedata = ReadFile(filepath)\n",
    "    count = len(re.split(pattern,filedata))\n",
    "    return count\n",
    "WordCount('DataFiles\\data.txt')"
   ]
  },
  {
   "cell_type": "markdown",
   "metadata": {},
   "source": [
    "## Count the number of unique word in a given file"
   ]
  },
  {
   "cell_type": "code",
   "execution_count": 8,
   "metadata": {},
   "outputs": [
    {
     "name": "stdout",
     "output_type": "stream",
     "text": [
      "11\n"
     ]
    }
   ],
   "source": [
    "def UniqueWord(datafile):\n",
    "    unique = []\n",
    "    C = 0\n",
    "    with open(datafile,'r') as f:\n",
    "        for line in f:\n",
    "            line = line.strip()\n",
    "            word = line.split()\n",
    "            for w in word:\n",
    "                if((word.count(w)==1) and (w not in unique)):\n",
    "                    unique.append(w)\n",
    "                    C = C+1\n",
    "                else:\n",
    "                    continue\n",
    "        print(C)\n",
    "UniqueWord('DataFiles\\data.txt')"
   ]
  },
  {
   "cell_type": "markdown",
   "metadata": {},
   "source": [
    "## Function to count the frequency count of all the words in a given file\n",
    "### Frequency distribution"
   ]
  },
  {
   "cell_type": "code",
   "execution_count": 26,
   "metadata": {},
   "outputs": [
    {
     "name": "stdout",
     "output_type": "stream",
     "text": [
      "Data : 3\n",
      "in : 3\n",
      "Line : 3\n",
      "1 : 1\n",
      "2 : 1\n",
      "3 : 1\n"
     ]
    }
   ],
   "source": [
    "def Frequency(datafile):\n",
    "    unique = []\n",
    "    count = 0\n",
    "    with open(datafile,'r') as f:\n",
    "        line = f.read()\n",
    "        for i in line.split():\n",
    "            if i in unique:\n",
    "                continue\n",
    "            else:\n",
    "                unique.append(i)\n",
    "            print(i,\":\",line.split().count(i))\n",
    "    return\n",
    "Frequency('DataFiles\\data1.txt')"
   ]
  },
  {
   "cell_type": "markdown",
   "metadata": {},
   "source": [
    "## Function to get unique elements from a list"
   ]
  },
  {
   "cell_type": "code",
   "execution_count": 12,
   "metadata": {},
   "outputs": [
    {
     "name": "stdout",
     "output_type": "stream",
     "text": [
      "[1, 2, 3]\n"
     ]
    }
   ],
   "source": [
    "# [1,2,3,3,2,1] -> [1,2,3]\n",
    "# Create an empty unique list [1,2,3]\n",
    "\n",
    "def getUniquedata(li):\n",
    "    # Create an empty list.\n",
    "    unique = []\n",
    "    for i in li: # For every element in list\n",
    "        if i in unique: # Check if element exists in unique list, if so move to the next element.\n",
    "            continue\n",
    "        else:           # If element does not exists in unique list, add it to unique list.\n",
    "            unique.append(i)\n",
    "    print(unique)\n",
    "getUniquedata([1,2,3,3,2,1])\n",
    "    "
   ]
  },
  {
   "cell_type": "code",
   "execution_count": null,
   "metadata": {},
   "outputs": [],
   "source": []
  }
 ],
 "metadata": {
  "kernelspec": {
   "display_name": "Python 3",
   "language": "python",
   "name": "python3"
  },
  "language_info": {
   "codemirror_mode": {
    "name": "ipython",
    "version": 3
   },
   "file_extension": ".py",
   "mimetype": "text/x-python",
   "name": "python",
   "nbconvert_exporter": "python",
   "pygments_lexer": "ipython3",
   "version": "3.7.3"
  }
 },
 "nbformat": 4,
 "nbformat_minor": 2
}
