{
 "cells": [
  {
   "cell_type": "markdown",
   "metadata": {},
   "source": [
    "## Even Numbers"
   ]
  },
  {
   "cell_type": "code",
   "execution_count": 1,
   "metadata": {},
   "outputs": [
    {
     "name": "stdout",
     "output_type": "stream",
     "text": [
      "Odd\n"
     ]
    }
   ],
   "source": [
    "n=123\n",
    "if n%2==0:\n",
    "    print(\"Even\")\n",
    "else:\n",
    "    print(\"Odd\")"
   ]
  },
  {
   "cell_type": "markdown",
   "metadata": {},
   "source": [
    "## Check the greatest number among the three numbers."
   ]
  },
  {
   "cell_type": "code",
   "execution_count": 2,
   "metadata": {},
   "outputs": [
    {
     "name": "stdout",
     "output_type": "stream",
     "text": [
      "Enter first number1\n",
      "Enter second number2\n",
      "Enter third number3\n",
      "3 is greatest\n"
     ]
    },
    {
     "data": {
      "text/plain": [
       "int"
      ]
     },
     "execution_count": 2,
     "metadata": {},
     "output_type": "execute_result"
    }
   ],
   "source": [
    "n1=int(input(\"Enter first number\"))\n",
    "n2=int(input(\"Enter second number\"))\n",
    "n3=int(input(\"Enter third number\"))\n",
    "if n1>n2 and n1>n3:\n",
    "    print(n1,\"is greatest\")\n",
    "elif n2>n3:\n",
    "    print(n2,\"is greatest\")\n",
    "else:\n",
    "    print(n3,\"is greatest\")\n",
    "type(n1)"
   ]
  },
  {
   "cell_type": "code",
   "execution_count": 3,
   "metadata": {},
   "outputs": [
    {
     "data": {
      "text/plain": [
       "int"
      ]
     },
     "execution_count": 3,
     "metadata": {},
     "output_type": "execute_result"
    }
   ],
   "source": [
    "type(n1)"
   ]
  },
  {
   "cell_type": "markdown",
   "metadata": {},
   "source": [
    "## Check if a year is a leap year or not."
   ]
  },
  {
   "cell_type": "code",
   "execution_count": 12,
   "metadata": {},
   "outputs": [
    {
     "name": "stdout",
     "output_type": "stream",
     "text": [
      "Enter the year2001\n",
      "2001 is not a leap year\n"
     ]
    }
   ],
   "source": [
    "leap=int(input(\"Enter the year\"))\n",
    "if(leap % 400 == 0 or (leap % 100 != 0 and leap % 4==0)):\n",
    "    print(leap,\" is a leap year.\")\n",
    "else:\n",
    "    print(leap, \"is not a leap year\")"
   ]
  },
  {
   "cell_type": "markdown",
   "metadata": {},
   "source": [
    "## Check if a number is in the given range or not.\n",
    "Eg. n=123\n",
    "    lb=10\n",
    "    ub=150"
   ]
  },
  {
   "cell_type": "code",
   "execution_count": 4,
   "metadata": {},
   "outputs": [
    {
     "name": "stdout",
     "output_type": "stream",
     "text": [
      "Enter a number 2\n",
      "Enter lower bound 3\n",
      "Enter upper bound 4\n",
      "2  is not in the range\n"
     ]
    }
   ],
   "source": [
    "num=int(input(\"Enter a number \"))\n",
    "lb=int(input(\"Enter lower bound \"))\n",
    "ub=int(input(\"Enter upper bound \"))\n",
    "if n<=ub and n>=lb:\n",
    "    print(num,\" is in the range.\")\n",
    "else:\n",
    "    print(num,\" is not in the range\")"
   ]
  },
  {
   "cell_type": "markdown",
   "metadata": {},
   "source": [
    "## Check if a number is a multiple of 10."
   ]
  },
  {
   "cell_type": "code",
   "execution_count": 5,
   "metadata": {},
   "outputs": [
    {
     "name": "stdout",
     "output_type": "stream",
     "text": [
      "Enter a number 10\n",
      "10  is a multiple of 10\n"
     ]
    }
   ],
   "source": [
    "num1=int(input(\"Enter a number \"))\n",
    "if num1%10==0:\n",
    "    print(num1,\" is a multiple of 10\")\n",
    "else:\n",
    "    print(\"Not a multiple of 10\")"
   ]
  },
  {
   "cell_type": "markdown",
   "metadata": {},
   "source": [
    "## Calculate the square root of a number without using function"
   ]
  },
  {
   "cell_type": "code",
   "execution_count": 9,
   "metadata": {},
   "outputs": [
    {
     "name": "stdout",
     "output_type": "stream",
     "text": [
      "Enter a number 36\n",
      "6.0\n"
     ]
    }
   ],
   "source": [
    "a=int(input(\"Enter a number \"))\n",
    "s=a**0.5\n",
    "print(s)"
   ]
  },
  {
   "cell_type": "markdown",
   "metadata": {},
   "source": [
    "## Count number of digits in a number"
   ]
  },
  {
   "cell_type": "code",
   "execution_count": 7,
   "metadata": {},
   "outputs": [
    {
     "name": "stdout",
     "output_type": "stream",
     "text": [
      "Enter a number 12345\n",
      "5\n"
     ]
    }
   ],
   "source": [
    "b=int(input(\"Enter a number \"))\n",
    "c=0\n",
    "r=1\n",
    "while b>0:\n",
    "    r=b%10\n",
    "    c+=1\n",
    "    b=b//10\n",
    "print(c)"
   ]
  },
  {
   "cell_type": "code",
   "execution_count": null,
   "metadata": {},
   "outputs": [],
   "source": []
  }
 ],
 "metadata": {
  "kernelspec": {
   "display_name": "Python 3",
   "language": "python",
   "name": "python3"
  },
  "language_info": {
   "codemirror_mode": {
    "name": "ipython",
    "version": 3
   },
   "file_extension": ".py",
   "mimetype": "text/x-python",
   "name": "python",
   "nbconvert_exporter": "python",
   "pygments_lexer": "ipython3",
   "version": "3.7.3"
  }
 },
 "nbformat": 4,
 "nbformat_minor": 2
}
