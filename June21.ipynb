{
 "cells": [
  {
   "cell_type": "markdown",
   "metadata": {},
   "source": [
    "## Function to add contact to a text file"
   ]
  },
  {
   "cell_type": "code",
   "execution_count": 12,
   "metadata": {},
   "outputs": [
    {
     "name": "stdout",
     "output_type": "stream",
     "text": [
      "[]\n",
      "Invalid Phone number or email\n"
     ]
    }
   ],
   "source": [
    "from Packages import validator\n",
    "def addContact(name,email,phone):\n",
    "    #store data as name,phone,email in the contacts file\n",
    "    filename = 'DataFiles\\contact.txt'\n",
    "    if name not in check(name):\n",
    "        if validator.phonenumvalid(phone)==True and validator.emailvalid(email)==True:\n",
    "            with open(filename,'a') as f:\n",
    "                line = name + ',' + str(phone) + ',' + email + '\\n'\n",
    "                f.write(line)\n",
    "            print(name, 'added to contacts')\n",
    "        else:\n",
    "            print('Invalid Phone number or email')\n",
    "    else:\n",
    "        print(name, 'already exists.')\n",
    "    return\n",
    "\n",
    "        \n",
    "# Function to check if contact exists\n",
    "import re\n",
    "def check(name):\n",
    "    filename = 'DataFiles\\contact.txt'\n",
    "    with open(filename,'r') as f:\n",
    "        filedata = f.read()\n",
    "        pattern = name + \",\"\n",
    "    \n",
    "    return re.findall(name,filedata)\n",
    "check('name1')\n",
    "addContact('name3','9643219081','name3_34@gmail.com')\n",
    "        \n",
    "    \n",
    "    \n"
   ]
  },
  {
   "cell_type": "code",
   "execution_count": 25,
   "metadata": {},
   "outputs": [
    {
     "data": {
      "text/plain": [
       "'name1,sahai.a@apssdc.in,9643219840\\nname2,sahaiaman.072@gmail.com,9643219840\\n'"
      ]
     },
     "execution_count": 25,
     "metadata": {},
     "output_type": "execute_result"
    }
   ],
   "source": [
    "filename = 'DataFiles\\contact.txt'\n",
    "def csvTolist(contacts): # Modify file\n",
    "    li = []\n",
    "    with open(filename,'r') as f:\n",
    "        for line in f:\n",
    "            li.append(line.split(','))\n",
    "        return li\n",
    "    \n",
    "def listTocsv(li): # list to csv\n",
    "    s = ''\n",
    "    for i in li:\n",
    "        s += ','.join(i)\n",
    "    return s\n",
    "\n",
    "li = csvTolist(filename)\n",
    "listTocsv(li)\n",
    "            \n",
    "            "
   ]
  },
  {
   "cell_type": "code",
   "execution_count": 19,
   "metadata": {},
   "outputs": [
    {
     "data": {
      "text/plain": [
       "True"
      ]
     },
     "execution_count": 19,
     "metadata": {},
     "output_type": "execute_result"
    }
   ],
   "source": [
    "from Packages import validator\n",
    "\n",
    "validator.phonenumvalid(\"9705928369\")"
   ]
  },
  {
   "cell_type": "markdown",
   "metadata": {},
   "source": [
    "# HackerEarthProblems"
   ]
  },
  {
   "cell_type": "markdown",
   "metadata": {},
   "source": [
    "## Goki and his breakup"
   ]
  },
  {
   "cell_type": "code",
   "execution_count": 20,
   "metadata": {},
   "outputs": [
    {
     "name": "stdout",
     "output_type": "stream",
     "text": [
      "5\n",
      "100\n",
      "110\n",
      "YES\n",
      "120\n",
      "YES\n",
      "45\n",
      "NO\n",
      "90\n",
      "NO\n",
      "130\n",
      "YES\n"
     ]
    }
   ],
   "source": [
    "N = int(input())\n",
    "X = int(input())\n",
    "def Goki(N):\n",
    "    for i in range(1,N+1):\n",
    "        Y = int(input())\n",
    "        if Y>=X :\n",
    "            print('YES')\n",
    "        else:\n",
    "            print('NO')\n",
    "Goki(N)"
   ]
  },
  {
   "cell_type": "markdown",
   "metadata": {},
   "source": [
    "## Hello"
   ]
  },
  {
   "cell_type": "code",
   "execution_count": 21,
   "metadata": {},
   "outputs": [
    {
     "name": "stdout",
     "output_type": "stream",
     "text": [
      "Hello Kirti\n"
     ]
    }
   ],
   "source": [
    "def Hello():\n",
    "    print(\"Hello Kirti\")\n",
    "Hello()\n"
   ]
  },
  {
   "cell_type": "code",
   "execution_count": null,
   "metadata": {},
   "outputs": [],
   "source": []
  }
 ],
 "metadata": {
  "kernelspec": {
   "display_name": "Python 3",
   "language": "python",
   "name": "python3"
  },
  "language_info": {
   "codemirror_mode": {
    "name": "ipython",
    "version": 3
   },
   "file_extension": ".py",
   "mimetype": "text/x-python",
   "name": "python",
   "nbconvert_exporter": "python",
   "pygments_lexer": "ipython3",
   "version": "3.7.3"
  }
 },
 "nbformat": 4,
 "nbformat_minor": 2
}
