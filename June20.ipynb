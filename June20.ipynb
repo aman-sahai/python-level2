{
 "cells": [
  {
   "cell_type": "markdown",
   "metadata": {},
   "source": [
    "# Day Objectives:\n",
    "- Regular Expressions\n",
    "    - Constructing Regular expressions for various use cases\n",
    "    - Regular expressions module and related in Python.\n",
    "    - Improving the contact application with name and phone number validation\n",
    "- File Handling\n",
    "    - Text Files \n",
    "    - Upgrading the Contact Application to store contact information in text file"
   ]
  },
  {
   "cell_type": "code",
   "execution_count": null,
   "metadata": {},
   "outputs": [],
   "source": []
  },
  {
   "cell_type": "markdown",
   "metadata": {},
   "source": [
    "## Regular Expressions\n",
    "- Pattern Matching\n",
    "- Symbolic Notation of a pattern\n",
    "    - Pattern : Format which repeats\n",
    "    - Pattern(RE) - The set of all values which matches a pattern\n",
    "- [0-9] -> Any digit \n",
    "- [a-z] -> Any lowercase of alphabet\n",
    "- [2468] -> All multiples of 2 or even numbers \n",
    "    [8642]\n",
    "    [6824]\n",
    "    \n",
    "- ^[0-9]{1}$ -> Only single digit numbers\n",
    "\n",
    "- ^[0-9]{3}$ -> Only 3 digits numbers\n",
    "\n",
    "- [0-9]*0$ -> All multiples of 10\n",
    "\n",
    "- ^([1-9][0-9]*[05])$|^([5])$ -> All multiples of 5\n",
    "\n",
    "- ^[1-9][0-9]{9}$ -> All 10 digit numbers\n",
    "\n",
    "- (word) or [w][o][r][d]-> searching for a word(eg. word)\n",
    "\n",
    "- ^[6-9][0-9]{9}$|^[0][6-9][0-9]{9}$|^[+91][6-9][0-9]{9}$ -> Validating in phone number(India)(start with 9876 followed by 9 digits)\n",
    "           \n",
    "- ^[0-9a-z][0-9a-z_.]{4,13}[@][a-z0-9]{3,18}[.][a-z]{2,4}$|^[0-9a-z][0-9a-z_.]{4,13}[@][a-z0-9]{3,18}[.][a-z]{2,4}$ -> Email Validation( username@domain.extension )\n",
    "    - username\n",
    "        - Length of username : [6, 15]\n",
    "        - No special characters other than '_',  '.'\n",
    "        - Should not begin and end with '_' and '.'\n",
    "        - Character Set : all digits and all lower case alphabets\n",
    "        \n",
    "    - domain\n",
    "        - Length of domain : [3, 18] \n",
    "            - No special characters\n",
    "            - Character set is all digits and all lower case alphabets\n",
    "            \n",
    "    - extension\n",
    "        - Length of extension : [2, 4]\n",
    "         - No special characters\n",
    "         - Character set is only lower case alphabet\n",
    "         \n",
    "- ^[a]...[z]$ -> Any string of length 5 that starts with 'a' and ends with 'z'\n",
    "\n",
    "- ^[a].*[z]$ -> Any string of any length starting with 'a' and ending with 'z'"
   ]
  },
  {
   "cell_type": "code",
   "execution_count": null,
   "metadata": {},
   "outputs": [],
   "source": []
  },
  {
   "cell_type": "markdown",
   "metadata": {},
   "source": [
    "## Function to validate a phone number"
   ]
  },
  {
   "cell_type": "code",
   "execution_count": 10,
   "metadata": {},
   "outputs": [
    {
     "data": {
      "text/plain": [
       "True"
      ]
     },
     "execution_count": 10,
     "metadata": {},
     "output_type": "execute_result"
    }
   ],
   "source": [
    "import re\n",
    "def phonenumvalid(num):\n",
    "    pattern = '^[6-9][0-9]{9}$|^[0][6-9][0-9]{9}$|^[+91][6-9][0-9]{9}$'\n",
    "    if re.match(pattern,str(num)):\n",
    "        return True\n",
    "    return False\n",
    "phonenumvalid(9565033528)"
   ]
  },
  {
   "cell_type": "markdown",
   "metadata": {},
   "source": [
    "## Function to check for email validation"
   ]
  },
  {
   "cell_type": "code",
   "execution_count": 17,
   "metadata": {},
   "outputs": [
    {
     "data": {
      "text/plain": [
       "False"
      ]
     },
     "execution_count": 17,
     "metadata": {},
     "output_type": "execute_result"
    }
   ],
   "source": [
    "import re\n",
    "def emailvalid(email):\n",
    "    pattern = '^[0-9a-z][0-9a-z_.]{4,13}[@][a-z0-9]{3,18}[.][a-z]{2,4}$|^[0-9a-z][0-9a-z_.]{4,13}[@][a-z0-9]{3,18}[.][a-z]{2,4}$'\n",
    "    if re.match(pattern,str(email)):\n",
    "        return True\n",
    "    return False\n",
    "emailvalid(\"re_12345@gmail.com\")"
   ]
  },
  {
   "cell_type": "code",
   "execution_count": 27,
   "metadata": {},
   "outputs": [
    {
     "name": "stdout",
     "output_type": "stream",
     "text": [
      "Invalid phone number\n"
     ]
    }
   ],
   "source": [
    "contact = {\"name1\":[9565033528,\"name1@domain.com\"],\"name2\":[7906579563,\"name2@domain.com\"]}\n",
    "def addContact(name,phone,email):\n",
    "    if name in contact:\n",
    "        print(\"Name %s already exists\" % name)\n",
    "    else:\n",
    "        if not phonenumvalid(phone):\n",
    "            print(\"Invalid phone number\")\n",
    "            return\n",
    "        if not emailvalid(email):\n",
    "            print(\"Invalid email id\")\n",
    "            return\n",
    "        newcontact = []\n",
    "        newcontact.append(phone)\n",
    "        newcontact.append(email)\n",
    "        contact[name] = newcontact\n",
    "    return\n",
    "addContact(\"name3\",978654320,\"name..3@domain.com\")    \n",
    "        "
   ]
  },
  {
   "cell_type": "code",
   "execution_count": 31,
   "metadata": {},
   "outputs": [
    {
     "name": "stdout",
     "output_type": "stream",
     "text": [
      "name1 : [9565033528, 'name1@domain.com']\n"
     ]
    }
   ],
   "source": [
    "def SearchContact(name):\n",
    "    if name not in contact:\n",
    "        print(name)\n",
    "        print(\"Phone :\",contact[name][0])\n",
    "        print(\"Email :\",contact[name][1])\n",
    "    else:\n",
    "        print(name ,\":\",contact[name])\n",
    "SearchContact(\"name1\")"
   ]
  },
  {
   "cell_type": "code",
   "execution_count": 32,
   "metadata": {},
   "outputs": [
    {
     "name": "stdout",
     "output_type": "stream",
     "text": [
      "2 contacts got added.\n"
     ]
    },
    {
     "data": {
      "text/plain": [
       "{'name1': [9565033528, 'name1@domain.com'],\n",
       " 'name2': [7906579563, 'name2@domain.com'],\n",
       " 'D': [542423534534, 'aman@gmail.com'],\n",
       " 'C': [3749249249, 'adbs@gmail.com']}"
      ]
     },
     "execution_count": 32,
     "metadata": {},
     "output_type": "execute_result"
    }
   ],
   "source": [
    "def importC(newContacts):\n",
    "    contact.update(newContacts)\n",
    "    print(len(newContacts.keys()), \"contacts got added.\")\n",
    "newContacts = {'D':[542423534534,'aman@gmail.com'],'C':[3749249249,'adbs@gmail.com']}\n",
    "\n",
    "importC(newContacts)\n",
    "\n",
    "contact"
   ]
  },
  {
   "cell_type": "markdown",
   "metadata": {},
   "source": [
    "## Function to list all contacts"
   ]
  },
  {
   "cell_type": "code",
   "execution_count": 37,
   "metadata": {},
   "outputs": [
    {
     "name": "stdout",
     "output_type": "stream",
     "text": [
      "name1\n",
      "Phone Number: 9565033528\n",
      "Email: name1@domain.com\n",
      "name2\n",
      "Phone Number: 7906579563\n",
      "Email: name2@domain.com\n",
      "D\n",
      "Phone Number: 542423534534\n",
      "Email: aman@gmail.com\n",
      "C\n",
      "Phone Number: 3749249249\n",
      "Email: adbs@gmail.com\n"
     ]
    }
   ],
   "source": [
    "def listAll():\n",
    "    for x,y in contact.items():\n",
    "        print(x)\n",
    "        print(\"Phone Number:\", y[0])\n",
    "        print(\"Email:\", y[1])\n",
    "listAll()\n",
    "        "
   ]
  },
  {
   "cell_type": "markdown",
   "metadata": {},
   "source": [
    "## Function to edit a contact information"
   ]
  },
  {
   "cell_type": "code",
   "execution_count": null,
   "metadata": {},
   "outputs": [],
   "source": [
    "def editContact(name,phone,email):"
   ]
  },
  {
   "cell_type": "code",
   "execution_count": null,
   "metadata": {},
   "outputs": [],
   "source": []
  },
  {
   "cell_type": "markdown",
   "metadata": {},
   "source": [
    "## File Handling\n",
    "\n",
    "File - Document containing information residing on the permanent storage\n",
    "Types - Text, PDF, CSV, .JPEG, PNG, .PY etc\n",
    "\n",
    "File IO - Channeling I/0 data to files\n",
    "Default I/O Channels - Keyboard/Screen\n",
    "\n",
    "Change I/O channel to files for reading and writing output to a file\n",
    "\n",
    "Read a file - Input from a file\n",
    "Writing to a file - Output to a file\n",
    "\n",
    "Read?Write a file - open(filename,mode)\n"
   ]
  },
  {
   "cell_type": "markdown",
   "metadata": {},
   "source": [
    "## Function to read a file"
   ]
  },
  {
   "cell_type": "code",
   "execution_count": 52,
   "metadata": {},
   "outputs": [
    {
     "name": "stdout",
     "output_type": "stream",
     "text": [
      "My name is Aman Sahai\n",
      "India will win the world cup\n",
      "I love her\n",
      "My name is Aman Sahai\n",
      "India will win the world cup\n",
      "I love herMy name is Aman Sahai\n",
      "India will win the world cup\n",
      "I love her\n"
     ]
    }
   ],
   "source": [
    "def readFile(filename):\n",
    "    f = open(filename,'r')\n",
    "    filedata = f.read()\n",
    "    f.close()\n",
    "    return filedata\n",
    "filename = \"Data Files\\data.txt\"\n",
    "filedata = readFile(filename).split('\\n')\n",
    "for line in filedata:\n",
    "    print(line)\n",
    "    \n",
    "def PrintFileDataLine(filename):\n",
    "    with open(filename,'r') as f: # for not closing the file\n",
    "        for line in f:\n",
    "            print(line,end='')\n",
    "    return\n",
    "\n",
    "PrintFileDataLine(filename)\n",
    "print(readFile(filename))\n",
    "\n",
    "    "
   ]
  },
  {
   "cell_type": "markdown",
   "metadata": {},
   "source": [
    "## Function to write into a file"
   ]
  },
  {
   "cell_type": "code",
   "execution_count": 53,
   "metadata": {},
   "outputs": [],
   "source": [
    "def WritetoFile(filename,filedata):\n",
    "    with open(filename,'w') as f:\n",
    "        f.write(filedata)\n",
    "    return\n",
    "filename = \"Data Files\\data.txt\"\n",
    "WritetoFile(filename,\"I love Python!\")"
   ]
  },
  {
   "cell_type": "markdown",
   "metadata": {},
   "source": [
    "## Function to append data to a file"
   ]
  },
  {
   "cell_type": "code",
   "execution_count": 57,
   "metadata": {},
   "outputs": [],
   "source": [
    "def Append(filename,filedata):\n",
    "    with open(filename,'a') as f:\n",
    "        for line in filedata:\n",
    "            f.write(\"\\n\"+line)\n",
    "    return\n",
    "filename = 'Data Files\\data.txt'\n",
    "filedata = ['Line4','Line5']\n",
    "Append(filename,filedata)"
   ]
  },
  {
   "cell_type": "code",
   "execution_count": null,
   "metadata": {},
   "outputs": [],
   "source": []
  }
 ],
 "metadata": {
  "kernelspec": {
   "display_name": "Python 3",
   "language": "python",
   "name": "python3"
  },
  "language_info": {
   "codemirror_mode": {
    "name": "ipython",
    "version": 3
   },
   "file_extension": ".py",
   "mimetype": "text/x-python",
   "name": "python",
   "nbconvert_exporter": "python",
   "pygments_lexer": "ipython3",
   "version": "3.7.3"
  }
 },
 "nbformat": 4,
 "nbformat_minor": 2
}
