{
 "cells": [
  {
   "cell_type": "code",
   "execution_count": 1,
   "metadata": {},
   "outputs": [],
   "source": [
    "# Function to find second largest problem in a list"
   ]
  },
  {
   "cell_type": "code",
   "execution_count": 4,
   "metadata": {},
   "outputs": [
    {
     "data": {
      "text/plain": [
       "7"
      ]
     },
     "execution_count": 4,
     "metadata": {},
     "output_type": "execute_result"
    }
   ],
   "source": [
    "def Secondlargest(li):\n",
    "    # Convert the list into a unique list\n",
    "    # Time complexity - represent the number of loops\n",
    "    # O(n) -> one loop\n",
    "    # O(n^2) -> two loop\n",
    "    unique = []\n",
    "    for i in li:\n",
    "        if i not in unique:\n",
    "            unique.append(i)\n",
    "    unique = sorted(unique,reverse=True)\n",
    "    return unique[1]\n",
    "Secondlargest([1,2,3,4,2,5,8,7,1,2,8])\n",
    "        "
   ]
  },
  {
   "cell_type": "code",
   "execution_count": 6,
   "metadata": {},
   "outputs": [
    {
     "data": {
      "text/plain": [
       "5"
      ]
     },
     "execution_count": 6,
     "metadata": {},
     "output_type": "execute_result"
    }
   ],
   "source": [
    "def fifthLeast(li):\n",
    "    unique = []\n",
    "    for i in li:\n",
    "        if i not in unique:\n",
    "            unique.append(i)\n",
    "    unique = sorted(unique)\n",
    "    if len(unique) == 1:\n",
    "        return unique[0]\n",
    "    else:\n",
    "        return unique[4]\n",
    "fifthLeast([1,2,3,4,2,5,8,7,1,2,8])"
   ]
  },
  {
   "cell_type": "code",
   "execution_count": 19,
   "metadata": {},
   "outputs": [
    {
     "data": {
      "text/plain": [
       "2"
      ]
     },
     "execution_count": 19,
     "metadata": {},
     "output_type": "execute_result"
    }
   ],
   "source": [
    "def klargest(li,k):\n",
    "    unique = []\n",
    "    for i in li:\n",
    "        if i not in unique:\n",
    "            unique.append(i)\n",
    "    unique = sorted(unique,reverse=True)\n",
    "    if len(unique) >= k:\n",
    "        return unique[k-1]\n",
    "    return -1\n",
    "klargest([1,2,3,4,2,5,8,7,1,2,8],6)\n"
   ]
  },
  {
   "cell_type": "code",
   "execution_count": 24,
   "metadata": {},
   "outputs": [
    {
     "data": {
      "text/plain": [
       "7"
      ]
     },
     "execution_count": 24,
     "metadata": {},
     "output_type": "execute_result"
    }
   ],
   "source": [
    "def kleast(li,k):\n",
    "    unique = []\n",
    "    for i in li:\n",
    "        if i not in unique:\n",
    "            unique.append(i)\n",
    "    unique = sorted(unique)\n",
    "    if len(unique) >= k:\n",
    "        return unique[k-1]\n",
    "    return -1\n",
    "kleast([1,2,3,4,2,5,8,7,1,2,8],6)\n"
   ]
  },
  {
   "cell_type": "code",
   "execution_count": 37,
   "metadata": {},
   "outputs": [
    {
     "data": {
      "text/plain": [
       "1"
      ]
     },
     "execution_count": 37,
     "metadata": {},
     "output_type": "execute_result"
    }
   ],
   "source": [
    "# Function to identify smallest number with highest frequency element in a list.\n",
    "def sfrequency(li):\n",
    "    unique = {}\n",
    "    for i in li:\n",
    "        if i in unique:\n",
    "            unique[i] += 1\n",
    "        else:\n",
    "            unique[i] = 1\n",
    "            \n",
    "    freq = unique.values()\n",
    "    maxfreq = max(freq)\n",
    "    maxfreqE = []\n",
    "    # Identify the smallest number with maximum frequency.\n",
    "    for i in unique.items():\n",
    "        if i[1] == maxfreq:\n",
    "            maxfreqE.append(i[0])\n",
    "    maxfreqE = sorted(maxfreqE)\n",
    "    return min(maxfreqE)\n",
    "sfrequency([1,2,3,9,8,7,3,4,2,1])\n",
    "        \n",
    "        \n",
    "        \n"
   ]
  },
  {
   "cell_type": "code",
   "execution_count": 44,
   "metadata": {},
   "outputs": [
    {
     "data": {
      "text/plain": [
       "3"
      ]
     },
     "execution_count": 44,
     "metadata": {},
     "output_type": "execute_result"
    }
   ],
   "source": [
    "# Function to identify largest number with highest frequency element in a list.\n",
    "def hfrequency(li):\n",
    "    unique = {}\n",
    "    for i in li:\n",
    "        if i in unique:\n",
    "            unique[i] += 1\n",
    "        else:\n",
    "            unique[i] = 1\n",
    "            \n",
    "    freq = unique.values()\n",
    "    maxfreq = max(freq)\n",
    "    maxfreqE = []\n",
    "    # Identify the maximum number with maximum frequency.\n",
    "    for i in unique.items():\n",
    "        if i[1] == maxfreq:\n",
    "            maxfreqE.append(i[0])\n",
    "    maxfreqE = sorted(maxfreqE,reverse = True)\n",
    "    return max(maxfreqE)\n",
    "hfrequency([1,2,3,9,8,7,3,4,2,1])\n",
    "        \n",
    "        \n",
    "        \n"
   ]
  },
  {
   "cell_type": "code",
   "execution_count": 50,
   "metadata": {},
   "outputs": [
    {
     "data": {
      "text/plain": [
       "-1"
      ]
     },
     "execution_count": 50,
     "metadata": {},
     "output_type": "execute_result"
    }
   ],
   "source": [
    "# Function to identify the second highest frequency. If there are the same number with same frequency \n",
    "# return the smallest\n",
    "\n",
    "def secondLargest(li):\n",
    "    unique = {}\n",
    "    for i in li:\n",
    "        if i in unique:\n",
    "            unique[i] +=1\n",
    "        else:\n",
    "            unique[i] = 1\n",
    "    freq = unique.values()\n",
    "    secondlargest = max(freq)-1\n",
    "    sl = []\n",
    "    for i in unique.items():\n",
    "        if i[1] == secondlargest:\n",
    "            sl.append(i[0])\n",
    "    if len(sl)>1:\n",
    "        return min(sl)\n",
    "    return -1\n",
    "secondLargest([1])\n",
    "            \n",
    "    "
   ]
  },
  {
   "cell_type": "code",
   "execution_count": 58,
   "metadata": {},
   "outputs": [
    {
     "data": {
      "text/plain": [
       "2"
      ]
     },
     "execution_count": 58,
     "metadata": {},
     "output_type": "execute_result"
    }
   ],
   "source": [
    "# Function to identify the k highest frequency. If there are the same number with same frequency \n",
    "# return the smallest\n",
    "def kLargest(li,k):\n",
    "    unique = {}\n",
    "    for i in li:\n",
    "        if i in unique:\n",
    "            unique[i]+=1\n",
    "        else:\n",
    "            unique[i]=1\n",
    "    freq=unique.values()\n",
    "    kthmax = max(freq)-k\n",
    "    l = []\n",
    "    for i in unique.items():\n",
    "        if(i[1]==kthmax):\n",
    "            l.append(i[0])\n",
    "    if len(l) > 1:\n",
    "        return min(l)\n",
    "    return -1\n",
    "kLargest([9,8,7,6,5,2,3,4,9,6,7,7,7,6,7,6],4)\n",
    "# [9,8,7,6,5,2,3,4,9,6,7,7,7,6,7,6]k=4 ,2"
   ]
  }
 ],
 "metadata": {
  "kernelspec": {
   "display_name": "Python 3",
   "language": "python",
   "name": "python3"
  },
  "language_info": {
   "codemirror_mode": {
    "name": "ipython",
    "version": 3
   },
   "file_extension": ".py",
   "mimetype": "text/x-python",
   "name": "python",
   "nbconvert_exporter": "python",
   "pygments_lexer": "ipython3",
   "version": "3.7.3"
  }
 },
 "nbformat": 4,
 "nbformat_minor": 2
}
