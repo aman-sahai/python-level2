{
 "cells": [
  {
   "cell_type": "markdown",
   "metadata": {},
   "source": [
    "# Basic Problem Set on HackerEarth(Basic I/O Category"
   ]
  },
  {
   "cell_type": "code",
   "execution_count": null,
   "metadata": {},
   "outputs": [],
   "source": []
  },
  {
   "cell_type": "markdown",
   "metadata": {},
   "source": [
    "## Count Divisors\n",
    "You have been given 3 integers - l, r and k. Find how many numbers between l and r (both inclusive) are divisible by k. You do not need to print these numbers, you just have to find their count.\n",
    "\n",
    "Input Format\n",
    "The first and only line of input contains 3 space separated integers l, r and k.\n",
    "\n",
    "Output Format\n",
    "Print the required answer on a single line.\n",
    "\n",
    "- Sample Input\n",
    "  1 10 1\n",
    "- Sample Output \n",
    "  1"
   ]
  },
  {
   "cell_type": "code",
   "execution_count": 1,
   "metadata": {},
   "outputs": [
    {
     "name": "stdout",
     "output_type": "stream",
     "text": [
      "1 10 1\n",
      "10\n"
     ]
    }
   ],
   "source": [
    "def Count(l,r,k):\n",
    "    c=0\n",
    "    for i in range(l,r+1):\n",
    "        if i % k == 0:\n",
    "            c+=1\n",
    "    print (c)\n",
    "s=input()\n",
    "s=s.split()\n",
    "l = int(s[0])\n",
    "r = int(s[1])\n",
    "k = int(s[2])\n",
    "\n",
    "Count(1,10,1)\n"
   ]
  },
  {
   "cell_type": "markdown",
   "metadata": {},
   "source": [
    "## Factorial\n",
    "You have been given a positive integer N. You need to find and print the Factorial of this number. The Factorial of a positive integer N refers to the product of all number in the range from 1 to N. You can read more about the factorial of a number here.\n",
    "\n",
    "Input Format:\n",
    "The first and only line of the input contains a single integer N denoting the number whose factorial you need to find.\n",
    "\n",
    "Output Format\n",
    "Output a single line denoting the factorial of the number N.\n",
    "\n",
    "- Sample Input\n",
    "  2\n",
    "\n",
    "- Sample Output\n",
    "  2"
   ]
  },
  {
   "cell_type": "code",
   "execution_count": 5,
   "metadata": {},
   "outputs": [
    {
     "name": "stdout",
     "output_type": "stream",
     "text": [
      "5\n",
      "120\n"
     ]
    }
   ],
   "source": [
    "N=int(input())\n",
    "def Factorial(N):\n",
    "    m=1\n",
    "    for i in range(N,0,-1):\n",
    "        m=m*i\n",
    "    print(m)\n",
    "\n",
    "Factorial(N)\n"
   ]
  },
  {
   "cell_type": "markdown",
   "metadata": {},
   "source": [
    "## Toggle String\n",
    "You have been given a String S consisting of uppercase and lowercase English alphabets. You need to change the case of each alphabet in this String. That is, all the uppercase letters should be converted to lowercase and all the lowercase letters should be converted to uppercase. You need to then print the resultant String to output.\n",
    "\n",
    "Input Format\n",
    "The first and only line of input contains the String S\n",
    "\n",
    "Output Format\n",
    "Print the resultant String on a single line.\n",
    "\n",
    "- Sample Input\n",
    "    - abcdE\n",
    "- Sample Output\n",
    "    - ABCDe"
   ]
  },
  {
   "cell_type": "code",
   "execution_count": 29,
   "metadata": {},
   "outputs": [
    {
     "name": "stdout",
     "output_type": "stream",
     "text": [
      "aBeD\n",
      "AbEd\n"
     ]
    }
   ],
   "source": [
    "S = input()\n",
    "def toggle(S):\n",
    "    S2 = ''\n",
    "    for i in S:\n",
    "        if i==i.upper():\n",
    "            S2=S2+i.lower()\n",
    "        elif i==i.lower():\n",
    "            S2=S2+i.upper()\n",
    "    print(S2)\n",
    "\n",
    "toggle(S)   \n",
    "\n",
    "# Alternate solution without using functions.\n",
    "\n",
    "def to(s):\n",
    "    s=input()\n",
    "    new = ''\n",
    "    capitals = ['A','B','C','D','E']\n",
    "    small = ['a','b','c','d','e']\n",
    "    for i in s:\n",
    "        if i in capitals:\n",
    "            n= capitals.index(i)\n",
    "            new = new+small[n]\n",
    "        if i in small:\n",
    "            n= small.index(i)\n",
    "            new = new+capitals[m]\n",
    "    print(new)\n"
   ]
  },
  {
   "cell_type": "markdown",
   "metadata": {},
   "source": [
    "## Palindromic String\n",
    "You have been given a String S. You need to find and print whether this string is a palindrome or not. If yes, print \"YES\" (without quotes), else print \"NO\" (without quotes).\n",
    "\n",
    "Input Format\n",
    "The first and only line of input contains the String S. The String shall consist of lowercase English alphabets only.\n",
    "\n",
    "Output Format\n",
    "Print the required answer on a single line.\n",
    "\n",
    "Note\n",
    "String S consists of lowercase English Alphabets only.\n",
    "\n",
    "- Sample Input\n",
    "    - aba\n",
    "\n",
    "- Sample Output\n",
    "    - YES\n"
   ]
  },
  {
   "cell_type": "code",
   "execution_count": 7,
   "metadata": {},
   "outputs": [
    {
     "name": "stdout",
     "output_type": "stream",
     "text": [
      "aba\n",
      "YES\n"
     ]
    }
   ],
   "source": [
    "S = input()\n",
    "def Pal(S):\n",
    "    C = S\n",
    "    R = S[-1::-1]\n",
    "    if R == C:\n",
    "        print('YES')\n",
    "    else:\n",
    "        print('NO')\n",
    "\n",
    "Pal(S)\n"
   ]
  },
  {
   "cell_type": "markdown",
   "metadata": {},
   "source": [
    "## Prime Numbers\n",
    "You are given an integer N. You need to print the series of all prime numbers till N.\n",
    "\n",
    "Input Format\n",
    "\n",
    "The first and only line of the input contains a single integer N denoting the number till where you need to find the series of prime number.\n",
    "\n",
    "Output Format\n",
    "\n",
    "Print the desired output in single line separated by spaces.\n",
    "\n",
    "- Sample Input\n",
    "    - 9\n",
    "- Sample Output\n",
    "    - 2 3 5 7"
   ]
  },
  {
   "cell_type": "code",
   "execution_count": 8,
   "metadata": {},
   "outputs": [
    {
     "name": "stdout",
     "output_type": "stream",
     "text": [
      "13\n",
      "2 3 5 7 11 13 "
     ]
    }
   ],
   "source": [
    "def isPrime(n):\n",
    "    c=0\n",
    "    for i in range(2,n):\n",
    "        if n % i == 0:\n",
    "            c+=1\n",
    "    if c==0:\n",
    "        print(n,end = ' ')\n",
    "                \n",
    "N = int(input())\n",
    "def PrimeSeries(N):\n",
    "    for i in range(2,N+1):\n",
    "        isPrime(i)\n",
    "\n",
    "PrimeSeries(N)"
   ]
  },
  {
   "cell_type": "markdown",
   "metadata": {},
   "source": [
    "## Char Sum\n",
    "Consider All lowercase Alphabets of the English language. Here we consider each alphabet from a to z to have a certain weight. The weight of the alphabet a is considered to be 1, b to be 2, c to be 3 and so on until z has a weight of 26. In short, the weight of the alphabet a is 1, and the weight of all other alphabets is the weight of its previous alphabet + 1.\n",
    "\n",
    "Now, you have been given a String S consisting of lowercase English characters. You need to find the summation of weight of each character in this String.\n",
    "\n",
    "For example, Consider the String aba\n",
    "\n",
    "Here, the first character a has a weight of 1, the second character b has 2 and the third character a again has a weight of 1. So the summation here is equal to : 1+2+1=4\n",
    "\n",
    "Input Format:\n",
    "\n",
    "The first and only line of input contains the String S.\n",
    "\n",
    "Output Format:\n",
    "\n",
    "Print the required answer on a single line\n",
    "\n",
    "- Sample Input\n",
    "    - aba\n",
    "- Sample Output\n",
    "    - 4"
   ]
  },
  {
   "cell_type": "code",
   "execution_count": 24,
   "metadata": {},
   "outputs": [
    {
     "name": "stdout",
     "output_type": "stream",
     "text": [
      "aman\n",
      "29\n"
     ]
    }
   ],
   "source": [
    "S = input()\n",
    "def Weight(S):\n",
    "    s = 0\n",
    "    for i in S:\n",
    "        s=s+(ord(i)-96)\n",
    "    print(s)\n",
    "\n",
    "Weight(S)"
   ]
  },
  {
   "cell_type": "markdown",
   "metadata": {},
   "source": [
    "## Two Strings\n",
    "Given two strings of equal length, you have to tell whether they both strings are identical.\n",
    "\n",
    "Two strings S1 and S2 are said to be identical, if any of the permutation of string S1 is equal to the string S2. See Sample explanation for more details.\n",
    "\n",
    "Input :\n",
    "- First line, contains an intger 'T' denoting no. of test cases.\n",
    "- Each test consists of a single line, containing two space separated strings S1 and S2 of equal length.\n",
    "\n",
    "Output:\n",
    "- For each test case, if any of the permutation of string S1 is equal to the string S2 print YES else print NO.\n",
    "\n",
    "- Sample Input\n",
    "    - 3\n",
    "    - sumit mitsu\n",
    "    - ambuj jumba\n",
    "    - abhi hibb\n",
    "- Sample Output\n",
    "    - YES\n",
    "    - YES\n",
    "    - NO\n"
   ]
  },
  {
   "cell_type": "code",
   "execution_count": 28,
   "metadata": {},
   "outputs": [
    {
     "name": "stdout",
     "output_type": "stream",
     "text": [
      "3\n",
      "sumit mitsu\n",
      "YES\n",
      "ambuja jumba\n",
      "NO\n",
      "ambuj jumba\n",
      "YES\n"
     ]
    }
   ],
   "source": [
    "T = int(input())\n",
    "for i in range(1,T+1):\n",
    "    S = input()\n",
    "    S = S.split()\n",
    "    s1 = S[0]\n",
    "    s2 = S[1]\n",
    "    sm1 = 0\n",
    "    sm2 = 0\n",
    "    for ch in s1:\n",
    "        sm1 += ord(ch)\n",
    "    for ch in s2:\n",
    "        sm2 += ord(ch)\n",
    "    if sm1 == sm2:\n",
    "        print('YES')\n",
    "    else:\n",
    "        print('NO')\n",
    "    \n"
   ]
  },
  {
   "cell_type": "code",
   "execution_count": null,
   "metadata": {},
   "outputs": [],
   "source": []
  }
 ],
 "metadata": {
  "kernelspec": {
   "display_name": "Python 3",
   "language": "python",
   "name": "python3"
  },
  "language_info": {
   "codemirror_mode": {
    "name": "ipython",
    "version": 3
   },
   "file_extension": ".py",
   "mimetype": "text/x-python",
   "name": "python",
   "nbconvert_exporter": "python",
   "pygments_lexer": "ipython3",
   "version": "3.7.3"
  }
 },
 "nbformat": 4,
 "nbformat_minor": 2
}
