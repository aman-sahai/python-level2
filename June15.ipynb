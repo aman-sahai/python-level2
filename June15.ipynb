{
 "cells": [
  {
   "cell_type": "markdown",
   "metadata": {},
   "source": [
    "# Basic Problem Set on HackerEarth(Basic I/O Category"
   ]
  },
  {
   "cell_type": "code",
   "execution_count": null,
   "metadata": {},
   "outputs": [],
   "source": []
  },
  {
   "cell_type": "markdown",
   "metadata": {},
   "source": [
    "## Count Divisors\n",
    "You have been given 3 integers - l, r and k. Find how many numbers between l and r (both inclusive) are divisible by k. You do not need to print these numbers, you just have to find their count.\n",
    "\n",
    "Input Format\n",
    "The first and only line of input contains 3 space separated integers l, r and k.\n",
    "\n",
    "Output Format\n",
    "Print the required answer on a single line.\n",
    "\n",
    "- Sample Input\n",
    "  1 10 1\n",
    "- Sample Output \n",
    "  1"
   ]
  },
  {
   "cell_type": "code",
   "execution_count": 1,
   "metadata": {},
   "outputs": [
    {
     "name": "stdout",
     "output_type": "stream",
     "text": [
      "1 10 1\n",
      "10\n"
     ]
    }
   ],
   "source": [
    "def Count(l,r,k):\n",
    "    c=0\n",
    "    for i in range(l,r+1):\n",
    "        if i % k == 0:\n",
    "            c+=1\n",
    "    print (c)\n",
    "s=input()\n",
    "s=s.split()\n",
    "l = int(s[0])\n",
    "r = int(s[1])\n",
    "k = int(s[2])\n",
    "\n",
    "Count(1,10,1)\n"
   ]
  },
  {
   "cell_type": "markdown",
   "metadata": {},
   "source": [
    "## Factorial\n",
    "You have been given a positive integer N. You need to find and print the Factorial of this number. The Factorial of a positive integer N refers to the product of all number in the range from 1 to N. You can read more about the factorial of a number here.\n",
    "\n",
    "Input Format:\n",
    "The first and only line of the input contains a single integer N denoting the number whose factorial you need to find.\n",
    "\n",
    "Output Format\n",
    "Output a single line denoting the factorial of the number N.\n",
    "\n",
    "- Sample Input\n",
    "  2\n",
    "\n",
    "- Sample Output\n",
    "  2"
   ]
  },
  {
   "cell_type": "code",
   "execution_count": 5,
   "metadata": {},
   "outputs": [
    {
     "name": "stdout",
     "output_type": "stream",
     "text": [
      "5\n",
      "120\n"
     ]
    }
   ],
   "source": [
    "N=int(input())\n",
    "def Factorial(N):\n",
    "    m=1\n",
    "    for i in range(N,0,-1):\n",
    "        m=m*i\n",
    "    print(m)\n",
    "\n",
    "Factorial(N)\n"
   ]
  },
  {
   "cell_type": "markdown",
   "metadata": {},
   "source": [
    "## Toggle String\n",
    "You have been given a String S consisting of uppercase and lowercase English alphabets. You need to change the case of each alphabet in this String. That is, all the uppercase letters should be converted to lowercase and all the lowercase letters should be converted to uppercase. You need to then print the resultant String to output.\n",
    "\n",
    "Input Format\n",
    "The first and only line of input contains the String S\n",
    "\n",
    "Output Format\n",
    "Print the resultant String on a single line.\n",
    "\n",
    "- Sample Input\n",
    "    - abcdE\n",
    "- Sample Output\n",
    "    - ABCDe"
   ]
  },
  {
   "cell_type": "code",
   "execution_count": 6,
   "metadata": {},
   "outputs": [
    {
     "name": "stdout",
     "output_type": "stream",
     "text": [
      "AmaN\n",
      "aMAn\n"
     ]
    },
    {
     "ename": "AttributeError",
     "evalue": "'list' object has no attribute 'join'",
     "output_type": "error",
     "traceback": [
      "\u001b[1;31m---------------------------------------------------------------------------\u001b[0m",
      "\u001b[1;31mAttributeError\u001b[0m                            Traceback (most recent call last)",
      "\u001b[1;32m<ipython-input-6-81727f51230b>\u001b[0m in \u001b[0;36m<module>\u001b[1;34m\u001b[0m\n\u001b[0;32m     52\u001b[0m             \u001b[0mt\u001b[0m\u001b[1;33m.\u001b[0m\u001b[0mappend\u001b[0m\u001b[1;33m(\u001b[0m\u001b[0mi\u001b[0m\u001b[1;33m.\u001b[0m\u001b[0mlower\u001b[0m\u001b[1;33m(\u001b[0m\u001b[1;33m)\u001b[0m\u001b[1;33m)\u001b[0m\u001b[1;33m\u001b[0m\u001b[1;33m\u001b[0m\u001b[0m\n\u001b[0;32m     53\u001b[0m     \u001b[1;32mreturn\u001b[0m \u001b[0mt\u001b[0m\u001b[1;33m.\u001b[0m\u001b[0mjoin\u001b[0m\u001b[1;33m(\u001b[0m\u001b[1;33m)\u001b[0m\u001b[1;33m\u001b[0m\u001b[1;33m\u001b[0m\u001b[0m\n\u001b[1;32m---> 54\u001b[1;33m \u001b[0mtoggle4\u001b[0m\u001b[1;33m(\u001b[0m\u001b[1;34m\"AmaN\"\u001b[0m\u001b[1;33m)\u001b[0m\u001b[1;33m\u001b[0m\u001b[1;33m\u001b[0m\u001b[0m\n\u001b[0m",
      "\u001b[1;32m<ipython-input-6-81727f51230b>\u001b[0m in \u001b[0;36mtoggle4\u001b[1;34m(s)\u001b[0m\n\u001b[0;32m     51\u001b[0m         \u001b[1;32melif\u001b[0m \u001b[0mi\u001b[0m\u001b[1;33m.\u001b[0m\u001b[0misupper\u001b[0m\u001b[1;33m(\u001b[0m\u001b[1;33m)\u001b[0m\u001b[1;33m:\u001b[0m\u001b[1;33m\u001b[0m\u001b[1;33m\u001b[0m\u001b[0m\n\u001b[0;32m     52\u001b[0m             \u001b[0mt\u001b[0m\u001b[1;33m.\u001b[0m\u001b[0mappend\u001b[0m\u001b[1;33m(\u001b[0m\u001b[0mi\u001b[0m\u001b[1;33m.\u001b[0m\u001b[0mlower\u001b[0m\u001b[1;33m(\u001b[0m\u001b[1;33m)\u001b[0m\u001b[1;33m)\u001b[0m\u001b[1;33m\u001b[0m\u001b[1;33m\u001b[0m\u001b[0m\n\u001b[1;32m---> 53\u001b[1;33m     \u001b[1;32mreturn\u001b[0m \u001b[0mt\u001b[0m\u001b[1;33m.\u001b[0m\u001b[0mjoin\u001b[0m\u001b[1;33m(\u001b[0m\u001b[1;33m)\u001b[0m\u001b[1;33m\u001b[0m\u001b[1;33m\u001b[0m\u001b[0m\n\u001b[0m\u001b[0;32m     54\u001b[0m \u001b[0mtoggle4\u001b[0m\u001b[1;33m(\u001b[0m\u001b[1;34m\"AmaN\"\u001b[0m\u001b[1;33m)\u001b[0m\u001b[1;33m\u001b[0m\u001b[1;33m\u001b[0m\u001b[0m\n",
      "\u001b[1;31mAttributeError\u001b[0m: 'list' object has no attribute 'join'"
     ]
    }
   ],
   "source": [
    "S = input()\n",
    "def toggle(S):\n",
    "    S2 = ''\n",
    "    for i in S:\n",
    "        if i==i.upper():\n",
    "            S2=S2+i.lower()\n",
    "        elif i==i.lower():\n",
    "            S2=S2+i.upper()\n",
    "    print(S2)\n",
    "\n",
    "toggle(S)   \n",
    "\n",
    "# Alternate solution without using functions.\n",
    "\n",
    "def to(s):\n",
    "    s=input()\n",
    "    new = ''\n",
    "    capitals = ['A','B','C','D','E']\n",
    "    small = ['a','b','c','d','e']\n",
    "    for i in s:\n",
    "        if i in capitals:\n",
    "            n= capitals.index(i)\n",
    "            new = new+small[n]\n",
    "        if i in small:\n",
    "            n= small.index(i)\n",
    "            new = new+capitals[m]\n",
    "    print(new)\n",
    "    \n",
    "# Alternate solution... check it\n",
    "    \n",
    "def toggle3(N):\n",
    "    N = input()\n",
    "    S = ''\n",
    "    for i in N:\n",
    "        if i.isupper():\n",
    "            S = S + i.lower()\n",
    "        elif i.islower():\n",
    "            S = S + i.upper()\n",
    "    return S\n",
    "\n",
    "#toggle3(N)\n",
    "\n",
    "# Alternate solution\n",
    "\n"
   ]
  },
  {
   "cell_type": "code",
   "execution_count": 7,
   "metadata": {},
   "outputs": [
    {
     "data": {
      "text/plain": [
       "'aMAn'"
      ]
     },
     "execution_count": 7,
     "metadata": {},
     "output_type": "execute_result"
    }
   ],
   "source": [
    "def toggle4(s):\n",
    "    s = list(s)\n",
    "    t = []\n",
    "    for i in s:\n",
    "        if i.islower():\n",
    "            t.append(i.upper())\n",
    "        elif i.isupper():\n",
    "            t.append(i.lower())\n",
    "    return \"\".join(t)\n",
    "toggle4(\"AmaN\")\n"
   ]
  },
  {
   "cell_type": "markdown",
   "metadata": {},
   "source": [
    "## Palindromic String\n",
    "You have been given a String S. You need to find and print whether this string is a palindrome or not. If yes, print \"YES\" (without quotes), else print \"NO\" (without quotes).\n",
    "\n",
    "Input Format\n",
    "The first and only line of input contains the String S. The String shall consist of lowercase English alphabets only.\n",
    "\n",
    "Output Format\n",
    "Print the required answer on a single line.\n",
    "\n",
    "Note\n",
    "String S consists of lowercase English Alphabets only.\n",
    "\n",
    "- Sample Input\n",
    "    - aba\n",
    "\n",
    "- Sample Output\n",
    "    - YES\n"
   ]
  },
  {
   "cell_type": "code",
   "execution_count": 7,
   "metadata": {},
   "outputs": [
    {
     "name": "stdout",
     "output_type": "stream",
     "text": [
      "aba\n",
      "YES\n"
     ]
    }
   ],
   "source": [
    "S = input()\n",
    "def Pal(S):\n",
    "    C = S\n",
    "    R = S[-1::-1]\n",
    "    if R == C:\n",
    "        print('YES')\n",
    "    else:\n",
    "        print('NO')\n",
    "\n",
    "Pal(S)\n"
   ]
  },
  {
   "cell_type": "markdown",
   "metadata": {},
   "source": [
    "## Prime Numbers\n",
    "You are given an integer N. You need to print the series of all prime numbers till N.\n",
    "\n",
    "Input Format\n",
    "\n",
    "The first and only line of the input contains a single integer N denoting the number till where you need to find the series of prime number.\n",
    "\n",
    "Output Format\n",
    "\n",
    "Print the desired output in single line separated by spaces.\n",
    "\n",
    "- Sample Input\n",
    "    - 9\n",
    "- Sample Output\n",
    "    - 2 3 5 7"
   ]
  },
  {
   "cell_type": "code",
   "execution_count": 8,
   "metadata": {},
   "outputs": [
    {
     "name": "stdout",
     "output_type": "stream",
     "text": [
      "13\n",
      "2 3 5 7 11 13 "
     ]
    }
   ],
   "source": [
    "def isPrime(n):\n",
    "    c=0\n",
    "    for i in range(2,n):\n",
    "        if n % i == 0:\n",
    "            c+=1\n",
    "    if c==0:\n",
    "        print(n,end = ' ')\n",
    "                \n",
    "N = int(input())\n",
    "def PrimeSeries(N):\n",
    "    for i in range(2,N+1):\n",
    "        isPrime(i)\n",
    "\n",
    "PrimeSeries(N)"
   ]
  },
  {
   "cell_type": "markdown",
   "metadata": {},
   "source": [
    "## Char Sum\n",
    "Consider All lowercase Alphabets of the English language. Here we consider each alphabet from a to z to have a certain weight. The weight of the alphabet a is considered to be 1, b to be 2, c to be 3 and so on until z has a weight of 26. In short, the weight of the alphabet a is 1, and the weight of all other alphabets is the weight of its previous alphabet + 1.\n",
    "\n",
    "Now, you have been given a String S consisting of lowercase English characters. You need to find the summation of weight of each character in this String.\n",
    "\n",
    "For example, Consider the String aba\n",
    "\n",
    "Here, the first character a has a weight of 1, the second character b has 2 and the third character a again has a weight of 1. So the summation here is equal to : 1+2+1=4\n",
    "\n",
    "Input Format:\n",
    "\n",
    "The first and only line of input contains the String S.\n",
    "\n",
    "Output Format:\n",
    "\n",
    "Print the required answer on a single line\n",
    "\n",
    "- Sample Input\n",
    "    - aba\n",
    "- Sample Output\n",
    "    - 4"
   ]
  },
  {
   "cell_type": "code",
   "execution_count": 24,
   "metadata": {},
   "outputs": [
    {
     "name": "stdout",
     "output_type": "stream",
     "text": [
      "aman\n",
      "29\n"
     ]
    }
   ],
   "source": [
    "S = input()\n",
    "def Weight(S):\n",
    "    s = 0\n",
    "    for i in S:\n",
    "        s=s+(ord(i)-96)\n",
    "    print(s)\n",
    "\n",
    "Weight(S)"
   ]
  },
  {
   "cell_type": "markdown",
   "metadata": {},
   "source": [
    "## Two Strings\n",
    "Given two strings of equal length, you have to tell whether they both strings are identical.\n",
    "\n",
    "Two strings S1 and S2 are said to be identical, if any of the permutation of string S1 is equal to the string S2. See Sample explanation for more details.\n",
    "\n",
    "Input :\n",
    "- First line, contains an intger 'T' denoting no. of test cases.\n",
    "- Each test consists of a single line, containing two space separated strings S1 and S2 of equal length.\n",
    "\n",
    "Output:\n",
    "- For each test case, if any of the permutation of string S1 is equal to the string S2 print YES else print NO.\n",
    "\n",
    "- Sample Input\n",
    "    - 3\n",
    "    - sumit mitsu\n",
    "    - ambuj jumba\n",
    "    - abhi hibb\n",
    "- Sample Output\n",
    "    - YES\n",
    "    - YES\n",
    "    - NO\n"
   ]
  },
  {
   "cell_type": "code",
   "execution_count": 28,
   "metadata": {},
   "outputs": [
    {
     "name": "stdout",
     "output_type": "stream",
     "text": [
      "3\n",
      "sumit mitsu\n",
      "YES\n",
      "ambuja jumba\n",
      "NO\n",
      "ambuj jumba\n",
      "YES\n"
     ]
    }
   ],
   "source": [
    "T = int(input())\n",
    "for i in range(1,T+1):\n",
    "    S = input()\n",
    "    S = S.split()\n",
    "    s1 = S[0]\n",
    "    s2 = S[1]\n",
    "    sm1 = 0\n",
    "    sm2 = 0\n",
    "    for ch in s1:\n",
    "        sm1 += ord(ch)\n",
    "    for ch in s2:\n",
    "        sm2 += ord(ch)\n",
    "    if sm1 == sm2:\n",
    "        print('YES')\n",
    "    else:\n",
    "        print('NO')\n",
    "    \n"
   ]
  },
  {
   "cell_type": "markdown",
   "metadata": {},
   "source": [
    "## Duration\n",
    "Rahul is a very busy person he dont wan't to waste his time . He keeps account of duration of each and every work. Now he don't even get time to calculate duration of works, So your job is to count the durations for each work and give it to rahul.\n",
    "- Input:\n",
    "    - First line will be given by N number of works\n",
    "    - Next N line will be given SH,SM,EH and EM  each separated by space(SH=starting hr, SM=starting -min, EH=ending hr, EM=ending min)\n",
    "- Output:\n",
    "    -N lines with duration HH MM(hours and minutes separated by space)\n",
    "- Sample Input\n",
    "    - 2\n",
    "    - 1 44 2 14\n",
    "    - 2 42 8 23\n",
    "- Sample Output\n",
    "    - 0 30\n",
    "    - 5 41\n",
    "    \n",
    "**Input**: start time, end time (HH,MM) <br>\n",
    "       HH - {00,23} - {00 00 ,23 59 <br>\n",
    "       MM - {00,59} <br>\n",
    "       HH MM - {00 00,23 59} <br>\n",
    "       \n",
    "**Output**: Time difference in HH MM\n",
    "\n"
   ]
  },
  {
   "cell_type": "code",
   "execution_count": 13,
   "metadata": {},
   "outputs": [
    {
     "name": "stdout",
     "output_type": "stream",
     "text": [
      "5 41\n"
     ]
    }
   ],
   "source": [
    "# Calculate the time difference as minutes.\n",
    "# Convert the total number of minutes into HH MM\n",
    "s = \"2 42 8 23\"\n",
    "def minuteDifference(s):\n",
    "    s = s.split()\n",
    "    sh = int(s[0])\n",
    "    sm = int(s[1])\n",
    "    eh = int(s[2])\n",
    "    em = int(s[3])\n",
    "    startminutes = sh * 60 + sm\n",
    "    endminutes = eh * 60 + em\n",
    "    return endminutes - startminutes\n",
    "\n",
    "# Convert minutes into HH MM\n",
    "def Duration(minutes):\n",
    "    # Convert minutes into hours\n",
    "    hh = minutes // 60\n",
    "    mm = minutes % 60\n",
    "    print(hh,mm)\n",
    "    return\n",
    "\n",
    "minutes = minuteDifference(s)\n",
    "Duration(minutes)"
   ]
  },
  {
   "cell_type": "markdown",
   "metadata": {},
   "source": [
    "## Play with numbers\n",
    "You are given an array of n numbers and q queries. For each query you have to print the floor of the expected value(mean) of the subarray from L to R.\n",
    "\n",
    "\n",
    "- Input\n",
    "    - First line contains two integers N and Q denoting number of array elements and number of queries.\n",
    "    - Next line contains N space seperated integers denoting array elements.\n",
    "    - Next Q lines contain two integers L and R(indices of the array).\n",
    "\n",
    "- Output\n",
    "    - print a single integer denoting the answer.\n",
    "    \n",
    "    \n",
    "\n",
    "\n",
    "\n",
    "line 1 : array size(n), number of queries(q)\n",
    "line 2: n array el\n",
    "next 1 lines : query\n",
    "\n",
    "- Sample Input\n",
    "    - 5 3\n",
    "    - 1 2 3 4 5\n",
    "    - 1 3\n",
    "    - 2 4\n",
    "    - 2 5\n",
    "\n",
    "- Sample Output\n",
    "    - 2\n",
    "    - 3\n",
    "    - 3\n",
    "    "
   ]
  },
  {
   "cell_type": "code",
   "execution_count": null,
   "metadata": {},
   "outputs": [],
   "source": []
  }
 ],
 "metadata": {
  "kernelspec": {
   "display_name": "Python 3",
   "language": "python",
   "name": "python3"
  },
  "language_info": {
   "codemirror_mode": {
    "name": "ipython",
    "version": 3
   },
   "file_extension": ".py",
   "mimetype": "text/x-python",
   "name": "python",
   "nbconvert_exporter": "python",
   "pygments_lexer": "ipython3",
   "version": "3.7.3"
  }
 },
 "nbformat": 4,
 "nbformat_minor": 2
}
