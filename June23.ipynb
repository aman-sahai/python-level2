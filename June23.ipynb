{
 "cells": [
  {
   "cell_type": "code",
   "execution_count": 1,
   "metadata": {},
   "outputs": [
    {
     "name": "stdout",
     "output_type": "stream",
     "text": [
      "11\n"
     ]
    }
   ],
   "source": [
    "def UniqueWord(datafile):\n",
    "    unique = []\n",
    "    C = 0\n",
    "    with open(datafile,'r') as f:\n",
    "        for line in f:\n",
    "            line = line.strip()\n",
    "            word = line.split()\n",
    "            for w in word:\n",
    "                if((word.count(w)==1) and (w not in unique)):\n",
    "                    unique.append(w)\n",
    "                    C = C+1\n",
    "                else:\n",
    "                    continue\n",
    "        print(C)\n",
    "UniqueWord('DataFiles\\data.txt')"
   ]
  },
  {
   "cell_type": "code",
   "execution_count": 3,
   "metadata": {},
   "outputs": [
    {
     "name": "stdout",
     "output_type": "stream",
     "text": [
      "[1, 2, 3]\n"
     ]
    }
   ],
   "source": [
    "# [1,2,3,3,2,1] -> [1,2,3]\n",
    "# Create an empty unique list [1,2,3]\n",
    "\n",
    "def getUniquedata(li):\n",
    "    # Create an empty list.\n",
    "    unique = []\n",
    "    for i in li: # For every element in list\n",
    "        if i in unique: # Check if element exists in unique list, if so move to the next element.\n",
    "            continue\n",
    "        else:           # If element does not exists in unique list, add it to unique list.\n",
    "            unique.append(i)\n",
    "    print(unique)\n",
    "getUniquedata([1,2,3,3,2,1])\n",
    "    "
   ]
  },
  {
   "cell_type": "code",
   "execution_count": 2,
   "metadata": {},
   "outputs": [
    {
     "name": "stdout",
     "output_type": "stream",
     "text": [
      "Data : 3\n",
      "in : 3\n",
      "Line : 3\n",
      "1 : 1\n",
      "2 : 1\n",
      "3 : 1\n"
     ]
    }
   ],
   "source": [
    "def Frequency(datafile):\n",
    "    unique = []\n",
    "    count = 0\n",
    "    with open(datafile,'r') as f:\n",
    "        line = f.read()\n",
    "        for i in line.split():\n",
    "            if i in unique:\n",
    "                continue\n",
    "            else:\n",
    "                unique.append(i)\n",
    "            print(i,\":\",line.split().count(i))\n",
    "    return\n",
    "Frequency('DataFiles\\data1.txt')"
   ]
  },
  {
   "cell_type": "code",
   "execution_count": null,
   "metadata": {},
   "outputs": [],
   "source": []
  }
 ],
 "metadata": {
  "kernelspec": {
   "display_name": "Python 3",
   "language": "python",
   "name": "python3"
  },
  "language_info": {
   "codemirror_mode": {
    "name": "ipython",
    "version": 3
   },
   "file_extension": ".py",
   "mimetype": "text/x-python",
   "name": "python",
   "nbconvert_exporter": "python",
   "pygments_lexer": "ipython3",
   "version": "3.7.3"
  }
 },
 "nbformat": 4,
 "nbformat_minor": 2
}
