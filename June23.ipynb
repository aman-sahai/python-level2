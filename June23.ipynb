{
 "cells": [
  {
   "cell_type": "markdown",
   "metadata": {},
   "source": [
    "## Toggle String"
   ]
  },
  {
   "cell_type": "code",
   "execution_count": 5,
   "metadata": {},
   "outputs": [
    {
     "name": "stdout",
     "output_type": "stream",
     "text": [
      "AManSAs\n",
      "amANsaS\n"
     ]
    }
   ],
   "source": [
    "N = input()\n",
    "def Toggle(N):\n",
    "    S = ''\n",
    "    for i in N:\n",
    "        if i.islower():\n",
    "            S = S+i.upper()\n",
    "        elif i.isupper():\n",
    "            S = S+i.lower()\n",
    "    print(S)\n",
    "Toggle(N)"
   ]
  },
  {
   "cell_type": "markdown",
   "metadata": {},
   "source": [
    "## Palindromic String"
   ]
  },
  {
   "cell_type": "code",
   "execution_count": 7,
   "metadata": {},
   "outputs": [
    {
     "name": "stdout",
     "output_type": "stream",
     "text": [
      "Mam\n",
      "NO\n"
     ]
    }
   ],
   "source": [
    "N = input()\n",
    "def Palindrome(N):\n",
    "    if N == N[-1::-1]:\n",
    "        print('YES')\n",
    "    else:\n",
    "        print('NO')\n",
    "Palindrome(N)"
   ]
  },
  {
   "cell_type": "code",
   "execution_count": null,
   "metadata": {},
   "outputs": [],
   "source": []
  }
 ],
 "metadata": {
  "kernelspec": {
   "display_name": "Python 3",
   "language": "python",
   "name": "python3"
  },
  "language_info": {
   "codemirror_mode": {
    "name": "ipython",
    "version": 3
   },
   "file_extension": ".py",
   "mimetype": "text/x-python",
   "name": "python",
   "nbconvert_exporter": "python",
   "pygments_lexer": "ipython3",
   "version": "3.7.3"
  }
 },
 "nbformat": 4,
 "nbformat_minor": 2
}
