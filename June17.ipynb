{
 "cells": [
  {
   "cell_type": "markdown",
   "metadata": {},
   "source": [
    "## Duration"
   ]
  },
  {
   "cell_type": "code",
   "execution_count": 1,
   "metadata": {},
   "outputs": [
    {
     "name": "stdout",
     "output_type": "stream",
     "text": [
      "5 41\n"
     ]
    }
   ],
   "source": [
    "# Calculate the time difference as minutes.\n",
    "# Convert the total number of minutes into HH MM\n",
    "s = \"2 42 8 23\"\n",
    "def minuteDifference(s):\n",
    "    s = s.split()\n",
    "    sh = int(s[0])\n",
    "    sm = int(s[1])\n",
    "    eh = int(s[2])\n",
    "    em = int(s[3])\n",
    "    startminutes = sh * 60 + sm\n",
    "    endminutes = eh * 60 + em\n",
    "    return endminutes - startminutes\n",
    "\n",
    "# Convert minutes into HH MM\n",
    "def Duration(minutes):\n",
    "    # Convert minutes into hours\n",
    "    hh = minutes // 60\n",
    "    mm = minutes % 60\n",
    "    print(hh,mm)\n",
    "    return\n",
    "\n",
    "minutes = minuteDifference(s)\n",
    "Duration(minutes)"
   ]
  },
  {
   "cell_type": "markdown",
   "metadata": {},
   "source": [
    "## Toggle String\n",
    "You have been given a String S consisting of uppercase and lowercase English alphabets. You need to change the case of each alphabet in this String. That is, all the uppercase letters should be converted to lowercase and all the lowercase letters should be converted to uppercase. You need to then print the resultant String to output.\n",
    "\n",
    "Input Format\n",
    "The first and only line of input contains the String S\n",
    "\n",
    "Output Format\n",
    "Print the resultant String on a single line.\n",
    "\n",
    "- Sample Input\n",
    "    - abcdE\n",
    "- Sample Output\n",
    "    - ABCDe"
   ]
  },
  {
   "cell_type": "code",
   "execution_count": null,
   "metadata": {},
   "outputs": [],
   "source": [
    "S = input()\n",
    "def toggle(S):\n",
    "    S2 = ''\n",
    "    for i in S:\n",
    "        if i==i.upper():\n",
    "            S2=S2+i.lower()\n",
    "        elif i==i.lower():\n",
    "            S2=S2+i.upper()\n",
    "    print(S2)\n",
    "\n",
    "toggle(S)   \n",
    "\n",
    "# Alternate solution without using functions.\n",
    "\n",
    "def to(s):\n",
    "    s=input()\n",
    "    new = ''\n",
    "    capitals = ['A','B','C','D','E']\n",
    "    small = ['a','b','c','d','e']\n",
    "    for i in s:\n",
    "        if i in capitals:\n",
    "            n= capitals.index(i)\n",
    "            new = new+small[n]\n",
    "        if i in small:\n",
    "            n= small.index(i)\n",
    "            new = new+capitals[m]\n",
    "    print(new)\n",
    "    \n",
    "# Alternate solution... check it\n",
    "    \n",
    "def toggle3(N):\n",
    "    N = input()\n",
    "    S = ''\n",
    "    for i in N:\n",
    "        if i.isupper():\n",
    "            S = S + i.lower()\n",
    "        elif i.islower():\n",
    "            S = S + i.upper()\n",
    "    return S\n",
    "\n",
    "#toggle3(N)\n"
   ]
  },
  {
   "cell_type": "markdown",
   "metadata": {},
   "source": [
    "## Play with numbers\n",
    "You are given an array of n numbers and q queries. For each query you have to print the floor of the expected value(mean) of the subarray from L to R.\n",
    "\n",
    "\n",
    "- Input\n",
    "    - First line contains two integers N and Q denoting number of array elements and number of queries.\n",
    "    - Next line contains N space seperated integers denoting array elements.\n",
    "    - Next Q lines contain two integers L and R(indices of the array).\n",
    "\n",
    "- Output\n",
    "    - print a single integer denoting the answer.\n",
    "    \n",
    "    \n",
    "\n",
    "\n",
    "\n",
    "line 1 : array size(n), number of queries(q)\n",
    "line 2: n array el\n",
    "next 1 lines : query\n",
    "\n",
    "- Sample Input\n",
    "    - 5 3\n",
    "    - 1 2 3 4 5\n",
    "    - 1 3\n",
    "    - 2 4\n",
    "    - 2 5\n",
    "\n",
    "- Sample Output\n",
    "    - 2\n",
    "    - 3\n",
    "    - 3\n",
    "    "
   ]
  },
  {
   "cell_type": "code",
   "execution_count": null,
   "metadata": {},
   "outputs": [],
   "source": []
  }
 ],
 "metadata": {
  "kernelspec": {
   "display_name": "Python 3",
   "language": "python",
   "name": "python3"
  },
  "language_info": {
   "codemirror_mode": {
    "name": "ipython",
    "version": 3
   },
   "file_extension": ".py",
   "mimetype": "text/x-python",
   "name": "python",
   "nbconvert_exporter": "python",
   "pygments_lexer": "ipython3",
   "version": "3.7.3"
  }
 },
 "nbformat": 4,
 "nbformat_minor": 2
}
