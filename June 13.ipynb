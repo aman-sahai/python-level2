{
 "cells": [
  {
   "cell_type": "markdown",
   "metadata": {},
   "source": [
    "### Function to print reverse of a given range in the same line"
   ]
  },
  {
   "cell_type": "code",
   "execution_count": 4,
   "metadata": {},
   "outputs": [
    {
     "name": "stdout",
     "output_type": "stream",
     "text": [
      "20 19 18 17 16 15 14 13 "
     ]
    }
   ],
   "source": [
    "def reverseRange(lb,ub):\n",
    "    for i in range(ub,lb-1,-1):\n",
    "        print(i,end=' ')\n",
    "    return\n",
    "reverseRange(13,20)"
   ]
  },
  {
   "cell_type": "markdown",
   "metadata": {},
   "source": [
    "### Function to print odd numbers in reverse order in a range"
   ]
  },
  {
   "cell_type": "code",
   "execution_count": 7,
   "metadata": {},
   "outputs": [
    {
     "name": "stdout",
     "output_type": "stream",
     "text": [
      "19 17 15 13 11 "
     ]
    }
   ],
   "source": [
    "def revOdd(lb,ub):\n",
    "    for i in range(ub,lb-1,-1):\n",
    "        if i%2!=0:\n",
    "            print(i,end=' ')\n",
    "    return\n",
    "revOdd(10,20)"
   ]
  },
  {
   "cell_type": "markdown",
   "metadata": {},
   "source": [
    "### Function to calculate sum of all numbers in the range"
   ]
  },
  {
   "cell_type": "code",
   "execution_count": 10,
   "metadata": {},
   "outputs": [
    {
     "data": {
      "text/plain": [
       "15150"
      ]
     },
     "execution_count": 10,
     "metadata": {},
     "output_type": "execute_result"
    }
   ],
   "source": [
    "def sumNum(lb,ub):\n",
    "    s=0\n",
    "    for i in range(lb,ub+1):\n",
    "        s=s+i\n",
    "    return s\n",
    "sumNum(100,200)\n",
    "        "
   ]
  },
  {
   "cell_type": "markdown",
   "metadata": {},
   "source": [
    "### Function to calculate average of a given range"
   ]
  },
  {
   "cell_type": "code",
   "execution_count": 15,
   "metadata": {},
   "outputs": [
    {
     "data": {
      "text/plain": [
       "3.0"
      ]
     },
     "execution_count": 15,
     "metadata": {},
     "output_type": "execute_result"
    }
   ],
   "source": [
    "def AVG(lb,ub):\n",
    "    #c=0\n",
    "    s=0\n",
    "    a=1\n",
    "    for i in range(lb,ub+1):\n",
    "        #c=c+1\n",
    "        s=s+i\n",
    "    a=s/(ub-lb+1)\n",
    "    return a\n",
    "AVG(1,5)"
   ]
  },
  {
   "cell_type": "markdown",
   "metadata": {},
   "source": [
    "### Function to generate the leap year in a given time period"
   ]
  },
  {
   "cell_type": "code",
   "execution_count": 30,
   "metadata": {},
   "outputs": [
    {
     "name": "stdout",
     "output_type": "stream",
     "text": [
      "2000 2004 2008 2012 2016 2020 "
     ]
    }
   ],
   "source": [
    "def isLeap(n):\n",
    "    if(n%400==0 or(n%100!=0 and n%4==0)):\n",
    "        return True\n",
    "    return False\n",
    "def genLeap(lb,ub):\n",
    "    for i in range(lb,ub+1):\n",
    "        if(isLeap(i)):\n",
    "            print(i,end=' ')\n",
    "    return \n",
    "genLeap(2000,2020)"
   ]
  },
  {
   "cell_type": "markdown",
   "metadata": {},
   "source": [
    "### Calculate number of days in a given time period"
   ]
  },
  {
   "cell_type": "code",
   "execution_count": 52,
   "metadata": {},
   "outputs": [
    {
     "data": {
      "text/plain": [
       "730"
      ]
     },
     "execution_count": 52,
     "metadata": {},
     "output_type": "execute_result"
    }
   ],
   "source": [
    "def Days(lb,ub):\n",
    "    #l=0\n",
    "    #nl=0\n",
    "    s=0\n",
    "    for i in range(lb,ub+1):\n",
    "        if(isLeap(i)):\n",
    "            s=s+366\n",
    "        else:\n",
    "            s=s+365\n",
    "    return s\n",
    "Days(2017,2018)"
   ]
  },
  {
   "cell_type": "markdown",
   "metadata": {},
   "source": [
    "### Function to calculate number of hour for a given period in the format (month1,year1,month2,year2)\n",
    "##### numHours(5, 2019, 6, 2019) --> 1464\n",
    "##### No of hours = 24 * No of days\n",
    "##### 3 steps\n",
    "###### 1. Start month year to end of year - calculate number of days\n",
    "###### 2. Calculate days for all years between start year and end year exclusive.\n",
    "######     2017, 2018 - 365 * no of years\n",
    "###### 3. Calculate days from January to end month year\n",
    "##### Excluding February\n",
    "###### First 6 months- 1,3,4,5,6 - All odd months have 31 days, All even months have 30 days\n",
    "###### Last 6 months- 8,9,10,11 - All even months have 31 days, All odd months have 30 days\n",
    "##### 31 days- (month <= 7 and month % 2 != 0) or (month >=8 and month % 2 == 0)\n",
    "##### 30 days- (month <= 7 and month % 2 == 0) or (month >=8 and month % 2! == 0)"
   ]
  },
  {
   "cell_type": "code",
   "execution_count": 51,
   "metadata": {},
   "outputs": [
    {
     "data": {
      "text/plain": [
       "205248"
      ]
     },
     "execution_count": 51,
     "metadata": {},
     "output_type": "execute_result"
    }
   ],
   "source": [
    "def numDaysMonth(month,year):\n",
    "    if month == 2:\n",
    "        if isLeap(year):\n",
    "            return 29\n",
    "        return 28\n",
    "    elif (month<=7 and month % 2!=0) or (month>=8 and month % 2==0):\n",
    "        return 31\n",
    "    else:\n",
    "        return 30\n",
    "numDaysMonth(7,2019)\n",
    "\n",
    "def DaysinStartYear(startmonth,startyear):\n",
    "    days = 0\n",
    "    for month in range(startmonth,12+1):\n",
    "        days += numDaysMonth(month,startyear)\n",
    "    return days\n",
    "DaysinStartYear(12,2020)\n",
    "\n",
    "def DaysinEndYear(endmonth,endyear):\n",
    "    days = 0\n",
    "    for month in range(1,endmonth+1):\n",
    "        days += numDaysMonth(month,endyear)\n",
    "    return days\n",
    "DaysinEndYear(2,2019)\n",
    "\n",
    "def numofHours(sm,sy,em,ey):\n",
    "    days = 0\n",
    "        \n",
    "    days += DaysinStartYear(sm,sy)\n",
    "    days += DaysinEndYear(em,ey)\n",
    "    if ey - sy == 2:\n",
    "        days += Days(sy+1, sy+1)\n",
    "    elif ey - sy > 2:\n",
    "        days += Days(sy+1, ey-1)\n",
    "    return 24 * days\n",
    "\n",
    "numofHours(11,1975,3,1999)\n",
    "        \n",
    "    \n",
    "    "
   ]
  },
  {
   "cell_type": "code",
   "execution_count": null,
   "metadata": {},
   "outputs": [],
   "source": []
  },
  {
   "cell_type": "code",
   "execution_count": null,
   "metadata": {},
   "outputs": [],
   "source": []
  }
 ],
 "metadata": {
  "kernelspec": {
   "display_name": "Python 3",
   "language": "python",
   "name": "python3"
  },
  "language_info": {
   "codemirror_mode": {
    "name": "ipython",
    "version": 3
   },
   "file_extension": ".py",
   "mimetype": "text/x-python",
   "name": "python",
   "nbconvert_exporter": "python",
   "pygments_lexer": "ipython3",
   "version": "3.7.3"
  }
 },
 "nbformat": 4,
 "nbformat_minor": 2
}
