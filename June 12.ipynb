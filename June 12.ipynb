{
 "cells": [
  {
   "cell_type": "markdown",
   "metadata": {},
   "source": [
    "# Problem Solving and Programming\n",
    "### Date 12 June 2019\n",
    "### Day Objectives\n",
    "##### String Slicing\n",
    "##### Functions in Python\n",
    "##### Basic Problems related to conditional statements using functions.\n",
    "##### Iterations in Python"
   ]
  },
  {
   "cell_type": "code",
   "execution_count": null,
   "metadata": {},
   "outputs": [],
   "source": []
  },
  {
   "cell_type": "markdown",
   "metadata": {},
   "source": [
    "## String Slicing"
   ]
  },
  {
   "cell_type": "code",
   "execution_count": 1,
   "metadata": {},
   "outputs": [
    {
     "name": "stdout",
     "output_type": "stream",
     "text": [
      "ytho\n",
      "h\n",
      "nohtyP\n",
      "no\n"
     ]
    },
    {
     "data": {
      "text/plain": [
       "''"
      ]
     },
     "execution_count": 1,
     "metadata": {},
     "output_type": "execute_result"
    }
   ],
   "source": [
    "st=\"Python\"\n",
    "l=len(st)\n",
    "st[0] # accessing the first character\n",
    "st[-1] # accesing the last character\n",
    "st[l-1] # accessing the last character\n",
    "st[-2] # accessing the penultimate character\n",
    "st[0:2] # using the range we can extract particular characters in string:upper\n",
    "        #bound is inclusive,lower bound is exclusive\n",
    "st[-2:] #accessing the last two characters\n",
    "\n",
    "# Access all characters except first and last character\n",
    "s=\"Python\"\n",
    "print(s[1:-1])\n",
    "\n",
    "# Access middle character of even length string\n",
    "# s1=\"Python\"\n",
    "# print(s1[len(s1)//2])\n",
    "\n",
    "# Access middle character of odd length string\n",
    "s1='Pythons'\n",
    "print(s1[len(s1)//2])\n",
    "\n",
    "s2=\"Python\"\n",
    "print(s2[-1::-1]) #Reverse of string\n",
    "print(s2[-1:-3:-1]) #Last 2 characters in reverse order\n",
    "\n",
    "#Reverse middle two characters in even length string\n",
    "#s3=\"Python\"\n",
    "#s3[len()]\n",
    "\n",
    "s4=\"Python\"\n",
    "s4[0:len(s4)+1:2] #Accessing alternate characters in the string\n",
    "s4[0:len(s4)+1:-2] #Accessing the alternate characters in the string in reverse \n",
    "                   #order."
   ]
  },
  {
   "cell_type": "code",
   "execution_count": null,
   "metadata": {},
   "outputs": [],
   "source": []
  },
  {
   "cell_type": "markdown",
   "metadata": {},
   "source": [
    "## Functions"
   ]
  },
  {
   "cell_type": "code",
   "execution_count": 2,
   "metadata": {},
   "outputs": [
    {
     "data": {
      "text/plain": [
       "'nohtyP'"
      ]
     },
     "execution_count": 2,
     "metadata": {},
     "output_type": "execute_result"
    }
   ],
   "source": [
    "#Function to reverse a string\n",
    "def reverseString(n):\n",
    "    return n[-1::-1]\n",
    "reverseString('Python')\n",
    "    "
   ]
  },
  {
   "cell_type": "code",
   "execution_count": 3,
   "metadata": {},
   "outputs": [
    {
     "data": {
      "text/plain": [
       "True"
      ]
     },
     "execution_count": 3,
     "metadata": {},
     "output_type": "execute_result"
    }
   ],
   "source": [
    "#Create a function to check if a string is palindrome\n",
    "def Palindrome(p):\n",
    "    c=p\n",
    "    if(c==p[-1::-1]):\n",
    "        return True\n",
    "    else:\n",
    "        return False\n",
    "Palindrome('BOB')"
   ]
  },
  {
   "cell_type": "code",
   "execution_count": 4,
   "metadata": {},
   "outputs": [
    {
     "data": {
      "text/plain": [
       "True"
      ]
     },
     "execution_count": 4,
     "metadata": {},
     "output_type": "execute_result"
    }
   ],
   "source": [
    "#Function to check if a given year is leap year.\n",
    "def LeapYear(year):\n",
    "    if(year % 400 == 0 or(year % 100 != 0 and year % 4==0)):\n",
    "        return True\n",
    "    return False\n",
    "LeapYear(2000)"
   ]
  },
  {
   "cell_type": "code",
   "execution_count": 5,
   "metadata": {},
   "outputs": [
    {
     "data": {
      "text/plain": [
       "3"
      ]
     },
     "execution_count": 5,
     "metadata": {},
     "output_type": "execute_result"
    }
   ],
   "source": [
    "#Function to count number of digits in a given number\n",
    "def num(m):\n",
    "    r=1\n",
    "    c=0\n",
    "    while m>0:\n",
    "        r=m%10\n",
    "        c+=1\n",
    "        m=m//10\n",
    "    return c\n",
    "num(123)"
   ]
  },
  {
   "cell_type": "code",
   "execution_count": 6,
   "metadata": {},
   "outputs": [
    {
     "data": {
      "text/plain": [
       "200"
      ]
     },
     "execution_count": 6,
     "metadata": {},
     "output_type": "execute_result"
    }
   ],
   "source": [
    "# Function to check greatest of four numbers\n",
    "def greatest(n1,n2,n3,n4):\n",
    "    if n1>n2 and n1>n3 and n1>n4:\n",
    "        return n1\n",
    "    elif n2>n3 and n2>n4:\n",
    "        return n2\n",
    "    elif n3>n4:\n",
    "        return n3\n",
    "    else:\n",
    "        return n4\n",
    "greatest(10,90,150,200)"
   ]
  },
  {
   "cell_type": "code",
   "execution_count": null,
   "metadata": {},
   "outputs": [],
   "source": []
  },
  {
   "cell_type": "markdown",
   "metadata": {},
   "source": [
    "## Iteration\n",
    "- for\n",
    "- while"
   ]
  },
  {
   "cell_type": "code",
   "execution_count": 7,
   "metadata": {},
   "outputs": [
    {
     "name": "stdout",
     "output_type": "stream",
     "text": [
      "1 2 3 4 5 6 7 8 9 10 "
     ]
    }
   ],
   "source": [
    "# Function to print n numbers\n",
    "def printNaturalnumbers(N):\n",
    "    for i in range(1,N+1):\n",
    "        print(i, end=\" \")\n",
    "    return\n",
    "printNaturalnumbers(10)"
   ]
  },
  {
   "cell_type": "code",
   "execution_count": 8,
   "metadata": {},
   "outputs": [
    {
     "name": "stdout",
     "output_type": "stream",
     "text": [
      "1 2 3 4 5 6 7 8 9 10 11 12 13 14 15 16 17 18 19 20 21 22 23 24 25 "
     ]
    }
   ],
   "source": [
    "# Function to print n numbers using while loop\n",
    "def Naturalwhile(n):\n",
    "    c=1\n",
    "    while c<=n:\n",
    "        print(c, end=\" \")\n",
    "        c+=1\n",
    "    return\n",
    "Naturalwhile(25)"
   ]
  },
  {
   "cell_type": "code",
   "execution_count": 9,
   "metadata": {},
   "outputs": [
    {
     "name": "stdout",
     "output_type": "stream",
     "text": [
      "12 18 24 30 36 42 48 54 60 66 72 78 84 90 96 "
     ]
    }
   ],
   "source": [
    "# Function to print all numbers divisible by 6 and not a factor of\n",
    "# 100 in a given range (lb,ub) inclusive\n",
    "\n",
    "def divFactor(lb,ub):\n",
    "    for i in range(lb,ub+1):\n",
    "        if(i%6==0 and 100%i!=0):\n",
    "            print(i,end=\" \")\n",
    "    return\n",
    "divFactor(10,100)\n"
   ]
  },
  {
   "cell_type": "code",
   "execution_count": 10,
   "metadata": {},
   "outputs": [
    {
     "name": "stdout",
     "output_type": "stream",
     "text": [
      "36.0\n"
     ]
    }
   ],
   "source": [
    "# Function to find average of cubes of all even numbers in given range(lb,ub)\n",
    "# inclusive\n",
    "def average(lb,ub):\n",
    "    c=0\n",
    "    s=0\n",
    "    cubes=1\n",
    "    avg=1\n",
    "    for i in range(lb,ub+1):\n",
    "        if(i%2==0):\n",
    "            c+=1\n",
    "            cubes=i*i*i\n",
    "            s=s+cubes\n",
    "    avg=s/c\n",
    "    print(avg)\n",
    "    return\n",
    "\n",
    "average(1,5)\n",
    "            "
   ]
  },
  {
   "cell_type": "code",
   "execution_count": 11,
   "metadata": {},
   "outputs": [
    {
     "name": "stdout",
     "output_type": "stream",
     "text": [
      "1 2 3 4 6 12 "
     ]
    }
   ],
   "source": [
    "# Function to generate list of factors for a given number\n",
    "def Factors(n):\n",
    "    for i in range(1,n+1):\n",
    "        if(n%i==0):\n",
    "            print(i,end=' ')\n",
    "    return\n",
    "Factors(12)"
   ]
  },
  {
   "cell_type": "code",
   "execution_count": 12,
   "metadata": {},
   "outputs": [
    {
     "data": {
      "text/plain": [
       "120"
      ]
     },
     "execution_count": 12,
     "metadata": {},
     "output_type": "execute_result"
    }
   ],
   "source": [
    "# Function to calculate factorial of a number\n",
    "def Factorial(number):\n",
    "    m=1\n",
    "    while(number>=1):\n",
    "        m=m*number\n",
    "        number=number-1\n",
    "    return m\n",
    "Factorial(5)"
   ]
  },
  {
   "cell_type": "code",
   "execution_count": 32,
   "metadata": {},
   "outputs": [
    {
     "data": {
      "text/plain": [
       "'Not Prime'"
      ]
     },
     "execution_count": 32,
     "metadata": {},
     "output_type": "execute_result"
    }
   ],
   "source": [
    "# Function to check if a number is prime.\n",
    "def Prime(p):\n",
    "    c=0\n",
    "    for i in range(2,p):\n",
    "        if(p%i==0):\n",
    "            c+=1\n",
    "    if(c==0):\n",
    "        return \"Prime\"\n",
    "    else:\n",
    "        return \"Not Prime\"\n",
    "Prime(12)\n"
   ]
  },
  {
   "cell_type": "code",
   "execution_count": 36,
   "metadata": {},
   "outputs": [
    {
     "data": {
      "text/plain": [
       "6.5"
      ]
     },
     "execution_count": 36,
     "metadata": {},
     "output_type": "execute_result"
    }
   ],
   "source": [
    "# Function to calculate the average of first n prime numbers\n",
    "def avgNprimes(n):\n",
    "    sum=0\n",
    "    primecount=0\n",
    "    seqcount=2\n",
    "    while(primecount<n):\n",
    "        if Prime(seqcount):\n",
    "            primecount+=1\n",
    "            sum+=seqcount\n",
    "        seqcount+=1\n",
    "    return sum/n\n",
    "        \n",
    "avgNprimes(10)"
   ]
  },
  {
   "cell_type": "code",
   "execution_count": 15,
   "metadata": {},
   "outputs": [],
   "source": [
    "# Function to generate all perfect numbers in a given range(lb,ub)inclusive.\n",
    "def Perfectnumbers(lb,ub):\n",
    "    d=1\n",
    "    s=0\n",
    "    for i in range(lb,ub+1):\n",
    "        if(i%d==0):\n",
    "            s=s+d\n",
    "            d+=1\n",
    "            if(s==i):\n",
    "                return s\n",
    "Perfectnumbers(10,25)"
   ]
  },
  {
   "cell_type": "markdown",
   "metadata": {},
   "source": [
    "### Function to print reverse of a given range in same line"
   ]
  },
  {
   "cell_type": "code",
   "execution_count": null,
   "metadata": {},
   "outputs": [],
   "source": [
    "def reverseRange"
   ]
  }
 ],
 "metadata": {
  "kernelspec": {
   "display_name": "Python 3",
   "language": "python",
   "name": "python3"
  },
  "language_info": {
   "codemirror_mode": {
    "name": "ipython",
    "version": 3
   },
   "file_extension": ".py",
   "mimetype": "text/x-python",
   "name": "python",
   "nbconvert_exporter": "python",
   "pygments_lexer": "ipython3",
   "version": "3.7.3"
  }
 },
 "nbformat": 4,
 "nbformat_minor": 2
}
