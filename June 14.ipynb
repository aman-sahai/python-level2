{
 "cells": [
  {
   "cell_type": "markdown",
   "metadata": {},
   "source": [
    "### Problem Solving and Programming in Python\n",
    "\n",
    "#### Date -14 June 2019\n",
    "\n",
    "#### Day Objectives\n",
    "\n",
    "- Python Data Structures\n",
    "    - Lists\n",
    "    - Tuples\n",
    "    - Dictionaries\n",
    "- Basic Problem on Data Structure\n",
    "- Advanced Problem Set\n",
    "- Packages and Modules in Python"
   ]
  },
  {
   "cell_type": "markdown",
   "metadata": {},
   "source": [
    "### Python Data Structure"
   ]
  },
  {
   "cell_type": "markdown",
   "metadata": {},
   "source": [
    "#### Lists"
   ]
  },
  {
   "cell_type": "code",
   "execution_count": 39,
   "metadata": {},
   "outputs": [
    {
     "data": {
      "text/plain": [
       "80.66666666666667"
      ]
     },
     "execution_count": 39,
     "metadata": {},
     "output_type": "execute_result"
    }
   ],
   "source": [
    "li=[123,978,654]\n",
    "\n",
    "li # Access the entire list\n",
    "\n",
    "li[1] # Accessing a particular element with index in list\n",
    "\n",
    "li[1:] # Access all element from second to last(slicing)\n",
    "\n",
    "li[-1::-1] # Accessing all the elements of the list in reverse order.\n",
    "\n",
    "li= li[-1::-1]\n",
    "\n",
    "li\n",
    "\n",
    "li= li[-1::-1] # reversing the list and reassining to original list\n",
    "\n",
    "li\n",
    "\n",
    "li[::2] # Accessing even index elements \n",
    "\n",
    "li[1::2] # Accessing odd index elements\n",
    "\n",
    "# List can be accessed and manipulated in two different ways\n",
    "        # Direct Referencing --> [index]\n",
    "        # Indirect Referencing --> functions\n",
    "\n",
    "# Adding an element to the end of list\n",
    "\n",
    "# Indirect Referencing\n",
    "li.append(6)\n",
    "\n",
    "li\n",
    "\n",
    "li.insert(1,234) # Adding an element at a particular index\n",
    "\n",
    "li.sort() # Sorts all the elements of the list in the ascending order\n",
    "\n",
    "li\n",
    "\n",
    "li.pop() # Remove the last element in a list\n",
    "\n",
    "li\n",
    "\n",
    "li.pop(1) # Remove an element at a particular index\n",
    "\n",
    "li\n",
    "\n",
    "li2=[3,4,5]\n",
    "\n",
    "li.extend(li2) # Merge list2 into list1\n",
    "\n",
    "li\n",
    "\n",
    "sum(li) # Caculates the sum of all the elements in the list\n",
    "\n",
    "max(li) # Return the maximum element in the list\n",
    "\n",
    "len(li) # Return the length of the list\n",
    "\n",
    "sum(li[0::2])/len(li[0::2]) # Average of elements at even position\n",
    "\n",
    "sum(li[1::2])/len(li[1::2]) # Average of elements at odd position\n",
    "\n",
    "\n"
   ]
  },
  {
   "cell_type": "markdown",
   "metadata": {},
   "source": [
    "#### Average of elements in a list"
   ]
  },
  {
   "cell_type": "code",
   "execution_count": 35,
   "metadata": {},
   "outputs": [
    {
     "name": "stdout",
     "output_type": "stream",
     "text": [
      "3.5\n"
     ]
    }
   ],
   "source": [
    "l=[1,2,3,4,5,6]\n",
    "s=sum(l)\n",
    "c=len(l)\n",
    "avg=s/c\n",
    "print(avg)"
   ]
  },
  {
   "cell_type": "markdown",
   "metadata": {},
   "source": [
    "#### Find the second largest element in the list"
   ]
  },
  {
   "cell_type": "code",
   "execution_count": 48,
   "metadata": {},
   "outputs": [
    {
     "data": {
      "text/plain": [
       "5"
      ]
     },
     "execution_count": 48,
     "metadata": {},
     "output_type": "execute_result"
    }
   ],
   "source": [
    "# Sort the data and select the second last element\n",
    "# Sort the data in reverse order and select the second element\n",
    "# Remove the max element and then get the max\n",
    "\n",
    "def secondLargest(li):\n",
    "    li.sort()\n",
    "    li.reverse()\n",
    "    return li[1]\n",
    "\n",
    "secondLargest([1,2,3,5,4])\n",
    "\n",
    "# Alternate solution--> 1\n",
    "def seLar(li):\n",
    "    li.sort()\n",
    "    return li[-2]\n",
    "\n",
    "seLar([12,4,5])"
   ]
  },
  {
   "cell_type": "markdown",
   "metadata": {},
   "source": [
    "#### Function that returns the nth largest"
   ]
  },
  {
   "cell_type": "code",
   "execution_count": 54,
   "metadata": {},
   "outputs": [
    {
     "data": {
      "text/plain": [
       "4"
      ]
     },
     "execution_count": 54,
     "metadata": {},
     "output_type": "execute_result"
    }
   ],
   "source": [
    "def genericLargest(l,n):\n",
    "    l.sort()\n",
    "    return l[-n]\n",
    "\n",
    "genericLargest(l,3)\n",
    "    "
   ]
  },
  {
   "cell_type": "markdown",
   "metadata": {},
   "source": [
    "#### Function to search for an element in a list\n",
    "Search for the key in the list and return the index of the key. Return -1 if the key is not found"
   ]
  },
  {
   "cell_type": "code",
   "execution_count": 78,
   "metadata": {},
   "outputs": [
    {
     "data": {
      "text/plain": [
       "5"
      ]
     },
     "execution_count": 78,
     "metadata": {},
     "output_type": "execute_result"
    }
   ],
   "source": [
    "li=[3,4,5,6,234,654]\n",
    "def LinearSearch(li,key):\n",
    "    for i in li:\n",
    "        if li[i] == key:\n",
    "            return i\n",
    "    return -1\n",
    "#LinearSearch(li,3)\n",
    "\n",
    "def LinearSearch2(li,key):\n",
    "    for element in li:\n",
    "        if element == key:\n",
    "            return li.index(element)\n",
    "    return -1\n",
    "#LinearSearch2(li,654)\n",
    "#li\n",
    "def LinearSearch3(li,key):\n",
    "    if key in li:\n",
    "        return li.index(key)\n",
    "    return -1\n",
    "LinearSearch3(li,654)\n",
    "\n"
   ]
  },
  {
   "cell_type": "markdown",
   "metadata": {},
   "source": [
    "#### Function to count the occurences of a character in a string."
   ]
  },
  {
   "cell_type": "code",
   "execution_count": 81,
   "metadata": {},
   "outputs": [
    {
     "data": {
      "text/plain": [
       "2"
      ]
     },
     "execution_count": 81,
     "metadata": {},
     "output_type": "execute_result"
    }
   ],
   "source": [
    "def count(s,k):\n",
    "    return s.count(k)\n",
    "count('Python Programming','m')\n",
    "\n",
    "#Alternate solution:\n",
    "def count2(s,k):\n",
    "    count = 0\n",
    "    for ch in s:\n",
    "        if ch == k:\n",
    "            count += 1\n",
    "    return count\n",
    "count2('Python Programming','m')"
   ]
  },
  {
   "cell_type": "markdown",
   "metadata": {},
   "source": [
    "#### Function to count the occurences of a given substring in a string"
   ]
  },
  {
   "cell_type": "code",
   "execution_count": 84,
   "metadata": {},
   "outputs": [
    {
     "data": {
      "text/plain": [
       "2"
      ]
     },
     "execution_count": 84,
     "metadata": {},
     "output_type": "execute_result"
    }
   ],
   "source": [
    "def count3(s,k):\n",
    "    return s.count(k)\n",
    "count3(\"Python Python\",\"Pyth\")\n",
    "\n",
    "# Alternate solution:\n",
    "def count4(s,k):\n",
    "    count = 0\n",
    "    \n",
    "count4(\"Python Python\",\"P\")\n",
    "        "
   ]
  },
  {
   "cell_type": "code",
   "execution_count": null,
   "metadata": {},
   "outputs": [],
   "source": []
  }
 ],
 "metadata": {
  "kernelspec": {
   "display_name": "Python 3",
   "language": "python",
   "name": "python3"
  },
  "language_info": {
   "codemirror_mode": {
    "name": "ipython",
    "version": 3
   },
   "file_extension": ".py",
   "mimetype": "text/x-python",
   "name": "python",
   "nbconvert_exporter": "python",
   "pygments_lexer": "ipython3",
   "version": "3.7.3"
  }
 },
 "nbformat": 4,
 "nbformat_minor": 2
}
