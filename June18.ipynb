{
 "cells": [
  {
   "cell_type": "markdown",
   "metadata": {},
   "source": [
    "## Play with Numbers\n",
    "You are given an array of n numbers and q queries. For each query you have to print the floor of the expected value(mean) of the subarray from L to R.\n",
    "\n",
    "- Input\n",
    "    - First line contains two integers N and Q denoting number of array elements and number of queries.\n",
    "    - Next line contains N space seperated integers denoting array elements.\n",
    "    - Next Q lines contain two integers L and R(indices of the array).\n",
    "- Output\n",
    "    - print a single integer denoting the answer."
   ]
  },
  {
   "cell_type": "code",
   "execution_count": 2,
   "metadata": {},
   "outputs": [
    {
     "name": "stdout",
     "output_type": "stream",
     "text": [
      "5 3\n",
      "1 2 3 4 5\n",
      "1 4\n",
      "2\n",
      "2 4\n",
      "3\n",
      "2 5\n",
      "3\n"
     ]
    }
   ],
   "source": [
    "n = input().split()\n",
    "n[0],n[1] = int(n[0]),int(n[1])\n",
    "\n",
    "# Read array element\n",
    "a = input().split()\n",
    "sum = []\n",
    "\n",
    "# Cumulative Sum\n",
    "for i in range(0,n[0]):\n",
    "    if i == 0:\n",
    "        sum.append(int(a[i]))\n",
    "    else:\n",
    "        sum.append(int(sum[i-1]) + int(a[i]))\n",
    "\n",
    "\n",
    "del a\n",
    "\n",
    "# Read each query and calculate the average\n",
    "for k in range(0,n[1]):\n",
    "    inq = input().split()\n",
    "    i = int(inq[0])\n",
    "    j = int(inq[1])\n",
    "    if i > 1:\n",
    "        print((sum[j-1] - sum[i-2]) // (j-i+1))\n",
    "    else:\n",
    "        print(sum[j-1] // (j-i+1))\n"
   ]
  },
  {
   "cell_type": "code",
   "execution_count": null,
   "metadata": {},
   "outputs": [],
   "source": []
  },
  {
   "cell_type": "markdown",
   "metadata": {},
   "source": [
    "## Special Numbers\n",
    "A special number is defined as a number which has atleast P distinct prime factors.\n",
    "Write a program to determine whether a number N is a special number.\n",
    "\n",
    "**Input Format**\n",
    "- First Line : P\n",
    "- Second Line : T(no of test case)\n",
    "- Next T lines: N\n",
    "\n",
    "**Output**\n",
    "- For each test case, print YES or NO depending on the result"
   ]
  },
  {
   "cell_type": "code",
   "execution_count": 3,
   "metadata": {},
   "outputs": [
    {
     "name": "stdout",
     "output_type": "stream",
     "text": [
      "2\n",
      "3\n",
      "4\n",
      "NO\n",
      "10\n",
      "YES\n",
      "30\n",
      "YES\n"
     ]
    }
   ],
   "source": [
    "# Function to determine if a number is special or not\n",
    "# Function to check if number is prime.\n",
    "# Function to determine number of Prime factors for a given number \n",
    "\n",
    "def Prime(n):\n",
    "    c=0\n",
    "    if n == 2:\n",
    "        return True\n",
    "    for i in range(2,n//2 + 1):\n",
    "        if n % i == 0:\n",
    "            c=1\n",
    "            return False\n",
    "    if c == 0:\n",
    "        return True\n",
    "Prime(71)\n",
    "\n",
    "def PrimeFactors(N):\n",
    "    if Prime(N):\n",
    "        return 1\n",
    "    c=0\n",
    "    for i in range(2,N//2+1):\n",
    "        if N % i == 0 and Prime(i):\n",
    "            c+=1\n",
    "    return c\n",
    "PrimeFactors(10) # 2,5\n",
    "\n",
    "def specialNumber(N,NP):\n",
    "    if PrimeFactors(N) >= NP:\n",
    "        return True\n",
    "    return False\n",
    "specialNumber(10,2)\n",
    "\n",
    "def solution2():\n",
    "    p=int(input())\n",
    "    t=int(input())\n",
    "    for i in range(0,t):\n",
    "        n=int(input())\n",
    "        if specialNumber(n,p):\n",
    "            print(\"YES\")\n",
    "        else:\n",
    "            print(\"NO\")\n",
    "solution2()"
   ]
  },
  {
   "cell_type": "markdown",
   "metadata": {},
   "source": [
    "## Highest Remainder\n",
    "Write a program to find a natural number that is smaller than N gives the highest remainder when \n",
    "divided by that number. \n",
    "If there is more than one such number, print the smallest one.\n",
    "\n",
    "N\n",
    "highest = 0\n",
    "k<N and N % x == highest\n",
    "\n",
    "- 10\n",
    "    - 9  1\n",
    "    - 8  2\n",
    "    - 7  3\n",
    "    - 6  4\n",
    "    - 5  0\n",
    "    - 4  2\n",
    "    - 3  1\n",
    "    - 2  0\n"
   ]
  },
  {
   "cell_type": "code",
   "execution_count": 6,
   "metadata": {},
   "outputs": [
    {
     "name": "stdout",
     "output_type": "stream",
     "text": [
      "16\n"
     ]
    }
   ],
   "source": [
    "def highestRemainder(n):\n",
    "    hr = 0\n",
    "    v = n\n",
    "    for i in range(n-1, n // 2,-1):\n",
    "        r = n % i\n",
    "        if r > hr:\n",
    "            hr = r\n",
    "            v = i\n",
    "    print(v)\n",
    "    return\n",
    "highestRemainder(30)\n",
    "        "
   ]
  },
  {
   "cell_type": "code",
   "execution_count": null,
   "metadata": {},
   "outputs": [],
   "source": []
  },
  {
   "cell_type": "markdown",
   "metadata": {},
   "source": [
    "# Tuples\n",
    "\n",
    "- Difference between lists and tuples\n",
    "    - t1=() and l1=[]\n",
    "    - lists are mutable(can be changed or modified)\n",
    "        - access, modify, add and delete data\n",
    "    - tuples are immutable once it is intialised\n",
    "        - tuples are used to access data only\n",
    "        - all slicing operations work\n",
    "    "
   ]
  },
  {
   "cell_type": "code",
   "execution_count": 11,
   "metadata": {},
   "outputs": [
    {
     "data": {
      "text/plain": [
       "(3, 4, 5)"
      ]
     },
     "execution_count": 11,
     "metadata": {},
     "output_type": "execute_result"
    }
   ],
   "source": [
    "t1 = (1,2,3,4,5)\n",
    "\n",
    "t1[3] # Accessing fourth element.\n",
    "\n",
    "t1[len(t1)//2:] # Accessing elements from middle to last.\n",
    "\n",
    "\n"
   ]
  },
  {
   "cell_type": "code",
   "execution_count": 12,
   "metadata": {},
   "outputs": [
    {
     "data": {
      "text/plain": [
       "tuple"
      ]
     },
     "execution_count": 12,
     "metadata": {},
     "output_type": "execute_result"
    }
   ],
   "source": [
    "type(t1)"
   ]
  },
  {
   "cell_type": "code",
   "execution_count": null,
   "metadata": {},
   "outputs": [],
   "source": []
  },
  {
   "cell_type": "markdown",
   "metadata": {},
   "source": [
    "# Dictionaries\n",
    "\n",
    "- It works on the concept of a Set.\n",
    "- Unique Data\n",
    "\n",
    "- Keys, Values\n",
    "    - Key is the unique identifier for a value.\n",
    "    - Value is the data that can be accessed with a key    \n",
    "- Dictionaries are mutable"
   ]
  },
  {
   "cell_type": "code",
   "execution_count": 14,
   "metadata": {},
   "outputs": [
    {
     "data": {
      "text/plain": [
       "'value2'"
      ]
     },
     "execution_count": 14,
     "metadata": {},
     "output_type": "execute_result"
    }
   ],
   "source": [
    "di = {\"k1\":\"value1\",\"k2\":\"value2\",\"k3\":\"value3\"}\n",
    "\n",
    "di[\"k2\"]"
   ]
  },
  {
   "cell_type": "code",
   "execution_count": 15,
   "metadata": {},
   "outputs": [
    {
     "data": {
      "text/plain": [
       "dict_keys(['k1', 'k2', 'k3'])"
      ]
     },
     "execution_count": 15,
     "metadata": {},
     "output_type": "execute_result"
    }
   ],
   "source": [
    "di.keys() # Will provide the list of all keys in the dictionaries"
   ]
  },
  {
   "cell_type": "code",
   "execution_count": 16,
   "metadata": {},
   "outputs": [
    {
     "data": {
      "text/plain": [
       "dict_values(['value1', 'value2', 'value3'])"
      ]
     },
     "execution_count": 16,
     "metadata": {},
     "output_type": "execute_result"
    }
   ],
   "source": [
    "di.values() # Will provide all the values in the dictionaries as list"
   ]
  },
  {
   "cell_type": "code",
   "execution_count": 18,
   "metadata": {},
   "outputs": [
    {
     "data": {
      "text/plain": [
       "dict_items([('k1', 'value1'), ('k2', 'value2'), ('k3', 'value3')])"
      ]
     },
     "execution_count": 18,
     "metadata": {},
     "output_type": "execute_result"
    }
   ],
   "source": [
    "di.items() # returns the list of tuples of keys and values"
   ]
  },
  {
   "cell_type": "code",
   "execution_count": 20,
   "metadata": {},
   "outputs": [
    {
     "data": {
      "text/plain": [
       "{'k1': 'value1', 'k2': 'value2', 'k3': 'value3', 'k4': 'value4'}"
      ]
     },
     "execution_count": 20,
     "metadata": {},
     "output_type": "execute_result"
    }
   ],
   "source": [
    "di[\"k4\"] = \"value4\" # Adding an element to the dictionary\n",
    "di"
   ]
  },
  {
   "cell_type": "code",
   "execution_count": 23,
   "metadata": {},
   "outputs": [
    {
     "data": {
      "text/plain": [
       "{'k1': 'value1', 'k2': 'Aman', 'k3': 'value3', 'k4': 'value4'}"
      ]
     },
     "execution_count": 23,
     "metadata": {},
     "output_type": "execute_result"
    }
   ],
   "source": [
    "di[\"k2\"] = \"Aman\"  # Updating an element of the dictionary\n",
    "di"
   ]
  },
  {
   "cell_type": "code",
   "execution_count": 29,
   "metadata": {},
   "outputs": [
    {
     "data": {
      "text/plain": [
       "{'k1': 'value1', 'k4': 'value4'}"
      ]
     },
     "execution_count": 29,
     "metadata": {},
     "output_type": "execute_result"
    }
   ],
   "source": [
    "di.pop(\"k2\")  \n",
    "di"
   ]
  },
  {
   "cell_type": "code",
   "execution_count": 31,
   "metadata": {},
   "outputs": [
    {
     "data": {
      "text/plain": [
       "False"
      ]
     },
     "execution_count": 31,
     "metadata": {},
     "output_type": "execute_result"
    }
   ],
   "source": [
    "\"k3\" in di # To check if key is present in the dictionary or not"
   ]
  },
  {
   "cell_type": "markdown",
   "metadata": {},
   "source": [
    "## Contact Application\n",
    "- Add Contact\n",
    "- Search for contact\n",
    "- List all contact\n",
    "- Modify contact \n",
    "- Remove contact"
   ]
  },
  {
   "cell_type": "code",
   "execution_count": 35,
   "metadata": {},
   "outputs": [
    {
     "name": "stdout",
     "output_type": "stream",
     "text": [
      "Contact Aman added\n"
     ]
    }
   ],
   "source": [
    "contact = {}\n",
    "def addContact(name,phone):\n",
    "    # Verify that the contact does not already exists\n",
    "    if name not in contact:\n",
    "        contact[name] = phone\n",
    "        print(\"Contact %s added\" % name)\n",
    "    else:\n",
    "        print(\"Contact %s already exists\" % name)\n",
    "addContact('Aman',\"7906579563\")\n"
   ]
  },
  {
   "cell_type": "code",
   "execution_count": 37,
   "metadata": {},
   "outputs": [
    {
     "data": {
      "text/plain": [
       "{'Aman': '7906579563'}"
      ]
     },
     "execution_count": 37,
     "metadata": {},
     "output_type": "execute_result"
    }
   ],
   "source": [
    "contact"
   ]
  },
  {
   "cell_type": "code",
   "execution_count": 41,
   "metadata": {},
   "outputs": [
    {
     "name": "stdout",
     "output_type": "stream",
     "text": [
      "Aman : 7906579563\n"
     ]
    }
   ],
   "source": [
    "def SearchContact(name):\n",
    "    if name not in contact:\n",
    "        print(\"Contact %s does not exist\" % name)\n",
    "    else:\n",
    "        print(name ,\":\",contact[name])\n",
    "SearchContact(\"Aman\")"
   ]
  },
  {
   "cell_type": "code",
   "execution_count": 42,
   "metadata": {},
   "outputs": [
    {
     "data": {
      "text/plain": [
       "{'Aman': '7906579563', 'A': '1234566771', 'B': '7383903231'}"
      ]
     },
     "execution_count": 42,
     "metadata": {},
     "output_type": "execute_result"
    }
   ],
   "source": [
    "contact[\"A\"]=\"1234566771\"\n",
    "contact[\"B\"]=\"7383903231\"\n",
    "contact"
   ]
  },
  {
   "cell_type": "code",
   "execution_count": 46,
   "metadata": {},
   "outputs": [
    {
     "data": {
      "text/plain": [
       "{'Aman': '7906579563', 'A': '1234566771', 'B': '7383903231'}"
      ]
     },
     "execution_count": 46,
     "metadata": {},
     "output_type": "execute_result"
    }
   ],
   "source": [
    "def ListContact():\n",
    "    return contact\n",
    "ListContact()"
   ]
  },
  {
   "cell_type": "code",
   "execution_count": 47,
   "metadata": {},
   "outputs": [
    {
     "name": "stdout",
     "output_type": "stream",
     "text": [
      "Modified\n"
     ]
    }
   ],
   "source": [
    "def Modify(name,num):\n",
    "    if name in contact:\n",
    "        contact[name] = num\n",
    "        print(\"Modified\")\n",
    "    else:\n",
    "        print(\"The contact not available\")\n",
    "Modify('Aman','9565033528')"
   ]
  },
  {
   "cell_type": "code",
   "execution_count": 48,
   "metadata": {},
   "outputs": [
    {
     "data": {
      "text/plain": [
       "{'Aman': '9565033528', 'A': '1234566771', 'B': '7383903231'}"
      ]
     },
     "execution_count": 48,
     "metadata": {},
     "output_type": "execute_result"
    }
   ],
   "source": [
    "contact"
   ]
  },
  {
   "cell_type": "code",
   "execution_count": 49,
   "metadata": {},
   "outputs": [
    {
     "name": "stdout",
     "output_type": "stream",
     "text": [
      "Contact deleted\n"
     ]
    }
   ],
   "source": [
    "def Delete(name):\n",
    "    if name in contact:\n",
    "        contact.pop(name)\n",
    "        print(\"Contact deleted\")\n",
    "    else:\n",
    "        print(\"Contact not found\")\n",
    "Delete('A')"
   ]
  },
  {
   "cell_type": "code",
   "execution_count": 50,
   "metadata": {},
   "outputs": [
    {
     "data": {
      "text/plain": [
       "{'Aman': '9565033528', 'B': '7383903231'}"
      ]
     },
     "execution_count": 50,
     "metadata": {},
     "output_type": "execute_result"
    }
   ],
   "source": [
    "contact"
   ]
  },
  {
   "cell_type": "code",
   "execution_count": 54,
   "metadata": {},
   "outputs": [
    {
     "name": "stdout",
     "output_type": "stream",
     "text": [
      "2 contacts got added.\n"
     ]
    }
   ],
   "source": [
    "# New contact is given as a dictionary.\n",
    "# Use update keyword\n",
    "# Merge new contacts with existing dictionary\n",
    "\n",
    "def importC(newContacts):\n",
    "    contact.update(newContacts)\n",
    "    print(len(newContacts.keys()), \"contacts got added.\")\n",
    "newContacts = {'D':542423534534,'C':3749249249}\n",
    "\n",
    "importC(newContacts)"
   ]
  },
  {
   "cell_type": "code",
   "execution_count": 53,
   "metadata": {},
   "outputs": [
    {
     "data": {
      "text/plain": [
       "{'Aman': '9565033528', 'B': '7383903231', 'D': 542423534534, 'C': 3749249249}"
      ]
     },
     "execution_count": 53,
     "metadata": {},
     "output_type": "execute_result"
    }
   ],
   "source": [
    "contact"
   ]
  },
  {
   "cell_type": "code",
   "execution_count": null,
   "metadata": {},
   "outputs": [],
   "source": []
  },
  {
   "cell_type": "markdown",
   "metadata": {},
   "source": [
    "# Packages and Modules in Python\n",
    "\n",
    "**Package** -> Collection of Modules(Python File .py) and subpackages.\n",
    "\n",
    "**SubPackages**\n",
    "\n",
    "**Modules** -> A single python file containing functions.\n",
    "\n",
    "Package -> SubPackage -> Modules -> Functions"
   ]
  },
  {
   "cell_type": "code",
   "execution_count": 56,
   "metadata": {},
   "outputs": [
    {
     "data": {
      "text/plain": [
       "3.141592653589793"
      ]
     },
     "execution_count": 56,
     "metadata": {},
     "output_type": "execute_result"
    }
   ],
   "source": [
    "# math will import the math package\n",
    "import math\n",
    "\n",
    "math.floor(123.456)\n",
    "\n",
    "math.pi"
   ]
  },
  {
   "cell_type": "code",
   "execution_count": 62,
   "metadata": {},
   "outputs": [
    {
     "data": {
      "text/plain": [
       "3.141592653589793"
      ]
     },
     "execution_count": 62,
     "metadata": {},
     "output_type": "execute_result"
    }
   ],
   "source": [
    "from math import floor,pi\n",
    "\n",
    "floor(12.33244343)\n",
    "\n",
    "pi"
   ]
  },
  {
   "cell_type": "code",
   "execution_count": 63,
   "metadata": {},
   "outputs": [
    {
     "data": {
      "text/plain": [
       "21313"
      ]
     },
     "execution_count": 63,
     "metadata": {},
     "output_type": "execute_result"
    }
   ],
   "source": [
    "from math import floor as fl\n",
    "\n",
    "fl(21313.4323232323323)"
   ]
  },
  {
   "cell_type": "markdown",
   "metadata": {},
   "source": [
    "### Function to generate n random numbers in a given range"
   ]
  },
  {
   "cell_type": "code",
   "execution_count": 81,
   "metadata": {},
   "outputs": [
    {
     "name": "stdout",
     "output_type": "stream",
     "text": [
      "13 60 20 46 39 54 32 93 18 73 "
     ]
    }
   ],
   "source": [
    "import random\n",
    "# random.randint(10,20) # Generates a single number between given range\n",
    "def generateNRandomNumbers(n,lb,ub):\n",
    "    for i in range(0,n):\n",
    "        print(random.randint(lb,ub),end=\" \")\n",
    "generateNRandomNumbers(10,0,100)\n",
    "    "
   ]
  },
  {
   "cell_type": "code",
   "execution_count": 5,
   "metadata": {},
   "outputs": [
    {
     "data": {
      "text/plain": [
       "2"
      ]
     },
     "execution_count": 5,
     "metadata": {},
     "output_type": "execute_result"
    }
   ],
   "source": [
    "from Packages import numerical\n",
    "\n",
    "numerical.Prime(5)\n",
    "\n",
    "numerical.PrimeFactors(96)"
   ]
  },
  {
   "cell_type": "code",
   "execution_count": 6,
   "metadata": {},
   "outputs": [
    {
     "data": {
      "text/plain": [
       "True"
      ]
     },
     "execution_count": 6,
     "metadata": {},
     "output_type": "execute_result"
    }
   ],
   "source": [
    "from Packages.numerical import Prime\n",
    "Prime(5)"
   ]
  },
  {
   "cell_type": "code",
   "execution_count": 7,
   "metadata": {},
   "outputs": [
    {
     "data": {
      "text/plain": [
       "2"
      ]
     },
     "execution_count": 7,
     "metadata": {},
     "output_type": "execute_result"
    }
   ],
   "source": [
    "from Packages.numerical import PrimeFactors\n",
    "PrimeFactors(9332)"
   ]
  },
  {
   "cell_type": "code",
   "execution_count": null,
   "metadata": {},
   "outputs": [],
   "source": []
  }
 ],
 "metadata": {
  "kernelspec": {
   "display_name": "Python 3",
   "language": "python",
   "name": "python3"
  },
  "language_info": {
   "codemirror_mode": {
    "name": "ipython",
    "version": 3
   },
   "file_extension": ".py",
   "mimetype": "text/x-python",
   "name": "python",
   "nbconvert_exporter": "python",
   "pygments_lexer": "ipython3",
   "version": "3.7.3"
  }
 },
 "nbformat": 4,
 "nbformat_minor": 2
}
