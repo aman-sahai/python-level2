{
 "cells": [
  {
   "cell_type": "markdown",
   "metadata": {},
   "source": [
    "## Function for searching contacts in contact application."
   ]
  },
  {
   "cell_type": "code",
   "execution_count": 4,
   "metadata": {},
   "outputs": [
    {
     "name": "stdout",
     "output_type": "stream",
     "text": [
      "name3 does not exists.\n"
     ]
    }
   ],
   "source": [
    "def Search(filename,name):\n",
    "    c = 0\n",
    "    with open(filename,'r')as f:\n",
    "        for line in f:\n",
    "            if name in line:\n",
    "                c = 1\n",
    "    if c == 1:\n",
    "        print(name,\"exists\")\n",
    "    else:\n",
    "        print(name,\"does not exists.\")\n",
    "    return\n",
    "Search('DataFiles\\contact.txt','name3')\n",
    "    "
   ]
  },
  {
   "cell_type": "markdown",
   "metadata": {},
   "source": [
    "## Function for finding and replacing contacts in  contact application\n",
    "- Count the total number of occurences of a word\n",
    "- If word is existing\n",
    "- Replace all occurences of a word with another word"
   ]
  },
  {
   "cell_type": "code",
   "execution_count": 11,
   "metadata": {},
   "outputs": [
    {
     "name": "stdout",
     "output_type": "stream",
     "text": [
      "Data : 7\n",
      "in : 7\n",
      "Line : 7\n",
      "1 : 1\n",
      "2 : 1\n",
      "3 : 5\n"
     ]
    }
   ],
   "source": [
    "import re\n",
    "def findReplace(filepath):\n",
    "    unique = []\n",
    "    count = 0\n",
    "    with open(filepath,'r')as f:\n",
    "        line = f.read()\n",
    "        for i in line.split():\n",
    "            if i in unique:\n",
    "                continue\n",
    "            else:\n",
    "                unique.append(i)\n",
    "            print(i,\":\",line.split().count(i))\n",
    "    return\n",
    "findReplace('DataFiles\\data1.txt')"
   ]
  },
  {
   "cell_type": "markdown",
   "metadata": {},
   "source": [
    "# Marks Analysis Application\n",
    "- Generate marks file for n students \n",
    "    - random library(randint(0,100))\n",
    "- Input : Marks text file - each line contains marks of one student\n",
    "- Generates a report with the following information\n",
    "    - Class Average\n",
    "    - Percentage of students passed\n",
    "    - Percentage of students failed \n",
    "    - Percentage of students with distinction"
   ]
  },
  {
   "cell_type": "code",
   "execution_count": 18,
   "metadata": {},
   "outputs": [
    {
     "name": "stdout",
     "output_type": "stream",
     "text": [
      "95\n",
      "93\n",
      "58\n",
      "1\n",
      "68\n",
      "52\n",
      "95\n",
      "58\n",
      "10\n",
      "\n"
     ]
    }
   ],
   "source": [
    "from random import randint\n",
    "def generateFile(n,lb,ub):\n",
    "    with open(\"DataFiles\\marks.txt\",\"w\") as f:\n",
    "        for i in range(0,n):\n",
    "            r = randint(lb,ub)\n",
    "            f.write(str(r)+\"\\n\")\n",
    "    return\n",
    "generateFile(10,0,100)\n",
    "def Marksreport(filename):\n",
    "    s = 0\n",
    "    c = 0\n",
    "    with open(filename,'r') as f:\n",
    "        for line in f:\n",
    "            linedata = f.read()\n",
    "        print(linedata)\n",
    "Marksreport('DataFiles\\marks.txt')\n",
    "    "
   ]
  },
  {
   "cell_type": "code",
   "execution_count": null,
   "metadata": {},
   "outputs": [],
   "source": []
  }
 ],
 "metadata": {
  "kernelspec": {
   "display_name": "Python 3",
   "language": "python",
   "name": "python3"
  },
  "language_info": {
   "codemirror_mode": {
    "name": "ipython",
    "version": 3
   },
   "file_extension": ".py",
   "mimetype": "text/x-python",
   "name": "python",
   "nbconvert_exporter": "python",
   "pygments_lexer": "ipython3",
   "version": "3.7.3"
  }
 },
 "nbformat": 4,
 "nbformat_minor": 2
}
