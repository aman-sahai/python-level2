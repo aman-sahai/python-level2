{
 "cells": [
  {
   "cell_type": "markdown",
   "metadata": {},
   "source": [
    "### Revision of Dictionary"
   ]
  },
  {
   "cell_type": "code",
   "execution_count": 1,
   "metadata": {},
   "outputs": [
    {
     "name": "stdout",
     "output_type": "stream",
     "text": [
      "Contact n5 has been added to the list\n"
     ]
    },
    {
     "data": {
      "text/plain": [
       "{'n1': '1234', 'n2': '3213', 'n3': '7654', 'n4': '4521', 'n5': '9234'}"
      ]
     },
     "execution_count": 1,
     "metadata": {},
     "output_type": "execute_result"
    }
   ],
   "source": [
    "c={'n1':'1234','n2':'3213','n3':'7654','n4':'4521'}\n",
    "def namec(name,phone):\n",
    "    if name in c:\n",
    "        print(\"Contact %s already exists\" % name)\n",
    "    else:\n",
    "        c[name] = phone\n",
    "        print(\"Contact %s has been added to the list\" % name)\n",
    "namec(\"n5\",\"9234\")\n",
    "c        "
   ]
  },
  {
   "cell_type": "code",
   "execution_count": 2,
   "metadata": {},
   "outputs": [
    {
     "name": "stdout",
     "output_type": "stream",
     "text": [
      "Contact n5 is present\n"
     ]
    }
   ],
   "source": [
    "def Searchc(name):\n",
    "    if name in c:\n",
    "        print(\"Contact %s is present\" % name)\n",
    "    else:\n",
    "        print(\"Contact %s is not present\" % name)\n",
    "Searchc('n5')"
   ]
  },
  {
   "cell_type": "code",
   "execution_count": 23,
   "metadata": {},
   "outputs": [
    {
     "name": "stdout",
     "output_type": "stream",
     "text": [
      "Contact n1 is not present\n",
      "n2 : 3213\n",
      "n3 : 7654\n",
      "n4 : 4521\n",
      "n5 : 9234\n",
      "e : 3343\n",
      "f : 4234\n",
      "g : 4256\n"
     ]
    }
   ],
   "source": [
    "def Modifyc(name,num):\n",
    "    if name in c:\n",
    "        c[name] = num\n",
    "        print(\"Contact %s modified\" % name)\n",
    "    else:\n",
    "        print(\"Contact %s is not present\" % name)\n",
    "Modifyc('n1','12345678')"
   ]
  },
  {
   "cell_type": "code",
   "execution_count": 4,
   "metadata": {},
   "outputs": [
    {
     "name": "stdout",
     "output_type": "stream",
     "text": [
      "Contact n1 has ben removed\n"
     ]
    },
    {
     "data": {
      "text/plain": [
       "{'n2': '3213', 'n3': '7654', 'n4': '4521', 'n5': '9234'}"
      ]
     },
     "execution_count": 4,
     "metadata": {},
     "output_type": "execute_result"
    }
   ],
   "source": [
    "def Removec(name):\n",
    "    if name in c:\n",
    "        c.pop(name)\n",
    "        print('Contact %s has ben removed' % name)\n",
    "    else:\n",
    "        print('Contact %s is not present' % name)\n",
    "Removec('n1')\n",
    "c"
   ]
  },
  {
   "cell_type": "code",
   "execution_count": 5,
   "metadata": {},
   "outputs": [
    {
     "data": {
      "text/plain": [
       "{'n2': '3213',\n",
       " 'n3': '7654',\n",
       " 'n4': '4521',\n",
       " 'n5': '9234',\n",
       " 'e': '3343',\n",
       " 'f': '4234',\n",
       " 'g': '4256'}"
      ]
     },
     "execution_count": 5,
     "metadata": {},
     "output_type": "execute_result"
    }
   ],
   "source": [
    "def updatec(newc):\n",
    "    c.update(newc)\n",
    "    return c\n",
    "newc = {\"e\":\"3343\",\"f\":\"4234\",\"g\":\"4256\"}\n",
    "updatec(newc)"
   ]
  },
  {
   "cell_type": "code",
   "execution_count": 24,
   "metadata": {},
   "outputs": [
    {
     "name": "stdout",
     "output_type": "stream",
     "text": [
      "n2 : 3213\n",
      "n3 : 7654\n",
      "n4 : 4521\n",
      "n5 : 9234\n",
      "e : 3343\n",
      "f : 4234\n",
      "g : 4256\n"
     ]
    }
   ],
   "source": [
    "for key,value in c.items():\n",
    "    print(key,\":\",value)"
   ]
  },
  {
   "cell_type": "code",
   "execution_count": null,
   "metadata": {},
   "outputs": [],
   "source": []
  },
  {
   "cell_type": "markdown",
   "metadata": {},
   "source": [
    "### Revision of packages and modules"
   ]
  },
  {
   "cell_type": "code",
   "execution_count": 21,
   "metadata": {},
   "outputs": [
    {
     "name": "stdout",
     "output_type": "stream",
     "text": [
      "Number 23 is odd.\n"
     ]
    }
   ],
   "source": [
    "from Packages import eo\n",
    "eo.evenodd(23)"
   ]
  },
  {
   "cell_type": "code",
   "execution_count": 22,
   "metadata": {},
   "outputs": [
    {
     "name": "stdout",
     "output_type": "stream",
     "text": [
      "Number 66 is even.\n"
     ]
    }
   ],
   "source": [
    "from Packages.eo import evenodd\n",
    "evenodd(66)"
   ]
  },
  {
   "cell_type": "markdown",
   "metadata": {},
   "source": [
    "## Bricks Game\n",
    "Patlu and Motu works in a building construction, they have to put some number of bricks N from one place to another, and started doing their work. They decided , they end up with a fun challenge who will put the last brick.\n",
    "\n",
    "They to follow a simple rule, In the i'th round, Patlu puts i bricks whereas Motu puts ix2 bricks.\n",
    "\n",
    "There are only N bricks, you need to help find the challenge result to find who put the last brick.\n",
    "\n",
    "- Input:\n",
    "    - First line contains an integer N.\n",
    "\n",
    "- Output:\n",
    "    - Output \"Patlu\" (without the quotes) if Patlu puts the last bricks ,\"Motu\"(without the quotes) otherwise."
   ]
  },
  {
   "cell_type": "code",
   "execution_count": 25,
   "metadata": {},
   "outputs": [
    {
     "name": "stdout",
     "output_type": "stream",
     "text": [
      "13\n",
      "Motu\n"
     ]
    }
   ],
   "source": [
    "N = int(input())\n",
    "def Brick(N):\n",
    "    for i in range(1,N+1):\n",
    "        M = i\n",
    "        P = i*2\n",
    "    if M == N:\n",
    "        print(\"Motu\")\n",
    "    elif P == N:\n",
    "        print(\"Patlu\")\n",
    "Brick(N)"
   ]
  },
  {
   "cell_type": "markdown",
   "metadata": {},
   "source": [
    "## Ali and Helping innocent people\n",
    "Arpasland has surrounded by attackers. A truck enters the city. The driver claims the load is food and medicine from Iranians. Ali is one of the soldiers in Arpasland. He doubts about the truck, maybe it's from the siege. He knows that a tag is valid if the sum of every two consecutive digits of it is even and its letter is not a vowel. Determine if the tag of the truck is valid or not.\n",
    "\n",
    "We consider the letters \"A\",\"E\",\"I\",\"O\",\"U\",\"Y\" to be vowels for this problem.\n",
    "\n",
    "- Input Format\n",
    "    - The first line contains a string of length 9. The format is \"DDXDDD-DD\", where D stands for a digit (non zero) and X is an uppercase english letter.\n",
    "\n",
    "- Output Format\n",
    "    - Print \"valid\" (without quotes) if the tag is valid, print \"invalid\" otherwise (without quotes)\n",
    "    \n",
    "- Sample Input\n",
    "    - 12X345-67\n",
    "\n",
    "- Sample output\n",
    "    - invalid"
   ]
  },
  {
   "cell_type": "code",
   "execution_count": 31,
   "metadata": {},
   "outputs": [
    {
     "name": "stdout",
     "output_type": "stream",
     "text": [
      "invalid\n"
     ]
    }
   ],
   "source": [
    "def Ali(N):\n",
    "    N.split('-')\n",
    "    ''.join(N[0:])\n",
    "    c=0\n",
    "    for i in N:\n",
    "        if (i == 'A' or i == 'E' or i =='I' or i =='O' or i == 'U') and N[i]+N[i+1]%2==0:\n",
    "            c=0\n",
    "            # print(\"valid\")\n",
    "        else:\n",
    "            c=1\n",
    "            #print(\"invalid\")\n",
    "    if c == 0:\n",
    "        print(\"valid\")\n",
    "    else:\n",
    "        print(\"invalid\")\n",
    "Ali(\"12X345-67\")"
   ]
  },
  {
   "cell_type": "markdown",
   "metadata": {},
   "source": [
    "## Roy and Profile Picture\n",
    "Roy wants to change his profile picture on Facebook. Now Facebook has some restriction over the dimension of picture that we can upload.\n",
    "Minimum dimension of the picture can be L x L, where L is the length of the side of square.\n",
    "\n",
    "Now Roy has N photos of various dimensions.\n",
    "Dimension of a photo is denoted as W x H \n",
    "where W - width of the photo and H - Height of the photo\n",
    "\n",
    "When any photo is uploaded following events may occur:\n",
    "\n",
    "[1] If any of the width or height is less than L, user is prompted to upload another one. Print \"UPLOAD ANOTHER\" in this case.\n",
    "[2] If width and height, both are large enough and \n",
    "    - (a) if the photo is already square then it is accepted. Print \"ACCEPTED\" in this case.\n",
    "    - (b) else user is prompted to crop it. Print \"CROP IT\" in this case.\n",
    "\n",
    "(quotes are only for clarification)\n",
    "\n",
    "Given L, N, W and H as input, print appropriate text as output.\n",
    "\n",
    "- Input:\n",
    "    - First line contains L.\n",
    "    - Second line contains N, number of photos.\n",
    "    - Following N lines each contains two space separated integers W and H.\n",
    "- Output:\n",
    "    - Print appropriate text for each photo in a new line.\n",
    "    \n",
    "- Sample Input\n",
    "    - 180\n",
    "    - 3\n",
    "    - 640 480\n",
    "    - 120 300\n",
    "    - 180 180\n",
    "\n",
    "- Sample Output\n",
    "    - CROP IT\n",
    "    - UPLOAD ANOTHER\n",
    "    - ACCEPTED\n",
    "    "
   ]
  },
  {
   "cell_type": "code",
   "execution_count": 33,
   "metadata": {},
   "outputs": [
    {
     "name": "stdout",
     "output_type": "stream",
     "text": [
      "180\n",
      "3\n",
      "640 480\n",
      "CROP IT\n",
      "120 300\n",
      "UPLOAD ANOTHER\n",
      "180 180\n",
      "ACCEPTED\n"
     ]
    }
   ],
   "source": [
    "L = int(input()) # 180\n",
    "N = int(input())\n",
    "def Profile(N):\n",
    "    for i in range(1,N+1):\n",
    "        S = input()\n",
    "        S = S.split()\n",
    "        W = int(S[0]) # 640\n",
    "        H = int(S[1]) # 480\n",
    "    \n",
    "        if(W<L or H<L):\n",
    "            print(\"UPLOAD ANOTHER\")\n",
    "        elif W==H:\n",
    "            print(\"ACCEPTED\")\n",
    "        else:\n",
    "            print(\"CROP IT\")\n",
    "        \n",
    "Profile(N)\n"
   ]
  },
  {
   "cell_type": "markdown",
   "metadata": {},
   "source": [
    "## Read a given string, change the character at a given index and then print the modified string.\n",
    "\n",
    "\n",
    "Input Format \n",
    "The first line contains a string, . \n",
    "The next line contains an integer , denoting the index location and a character  separated by a space.\n",
    "\n",
    "Output Format \n",
    "Using any of the methods explained above, replace the character at index  with character .\n",
    "\n",
    "Sample:\n",
    "\n",
    "Input:\n",
    "\n",
    "string=\"Hello apssdc\"\n",
    "\n",
    "Output:\n",
    "\n",
    "Hello Apssdc"
   ]
  },
  {
   "cell_type": "code",
   "execution_count": 46,
   "metadata": {},
   "outputs": [
    {
     "name": "stdout",
     "output_type": "stream",
     "text": [
      "Aman\n",
      "1 'M'\n",
      "A'M'an\n"
     ]
    }
   ],
   "source": [
    "N = input()\n",
    "S = input()\n",
    "S = S.split()\n",
    "a = int(S[0])\n",
    "b = S[1]\n",
    "print(N.replace(N[a],b,a))\n"
   ]
  },
  {
   "cell_type": "code",
   "execution_count": null,
   "metadata": {},
   "outputs": [],
   "source": []
  }
 ],
 "metadata": {
  "kernelspec": {
   "display_name": "Python 3",
   "language": "python",
   "name": "python3"
  },
  "language_info": {
   "codemirror_mode": {
    "name": "ipython",
    "version": 3
   },
   "file_extension": ".py",
   "mimetype": "text/x-python",
   "name": "python",
   "nbconvert_exporter": "python",
   "pygments_lexer": "ipython3",
   "version": "3.7.3"
  }
 },
 "nbformat": 4,
 "nbformat_minor": 2
}
